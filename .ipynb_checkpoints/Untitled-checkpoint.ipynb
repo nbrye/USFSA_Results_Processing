{
 "cells": [
  {
   "cell_type": "markdown",
   "id": "fd1393e0",
   "metadata": {},
   "source": [
    "### USFSA Results Scraping V2"
   ]
  },
  {
   "cell_type": "markdown",
   "id": "6a5ee812",
   "metadata": {},
   "source": [
    "#### Imports"
   ]
  },
  {
   "cell_type": "code",
   "execution_count": 1,
   "id": "8166e038",
   "metadata": {},
   "outputs": [],
   "source": [
    "import pandas as pd\n",
    "import requests\n",
    "import bs4"
   ]
  },
  {
   "cell_type": "markdown",
   "id": "65958d55",
   "metadata": {},
   "source": [
    "#### Global Variables"
   ]
  },
  {
   "cell_type": "code",
   "execution_count": 3,
   "id": "c6079567",
   "metadata": {},
   "outputs": [],
   "source": [
    "# TODO\n",
    "# Create a lookup table for all competition URLs\n",
    "main_url = \"https://ijs.usfigureskating.org/leaderboard/nonqual_results/2022/32007/index.html\"\n",
    "\n",
    "# TODO \n",
    "# Update lookup table with all possible group sizes\n",
    "lookup = {13: [12, 11, 10, 9, 8, 7, 6, 5, 4, 3, 2, 1, 1],\n",
    "          12: [12, 11, 10, 9, 8, 7, 6, 5, 4, 3, 2, 1],\n",
    "          11: [12, 10, 9, 8, 7, 6, 5, 4, 3, 2, 1],\n",
    "          10: [12, 10, 8, 7, 6, 5, 4, 3, 2, 1],\n",
    "          9: [12, 10, 8, 6, 5, 4, 3, 2, 1],\n",
    "          8: [12, 10, 8, 6, 4, 3, 2, 1],\n",
    "          7: [12, 10, 8, 6, 4, 2, 1],\n",
    "          6: [12, 10, 8, 6, 4, 2],\n",
    "          5: [10, 8, 6, 4, 2],\n",
    "          4: [8, 6, 4, 2],\n",
    "          3: [6, 4, 2],\n",
    "          2: [6, 4],\n",
    "          1: [6]\n",
    "         }"
   ]
  },
  {
   "cell_type": "markdown",
   "id": "54afd6a2",
   "metadata": {},
   "source": [
    "#### Utility Functions"
   ]
  },
  {
   "cell_type": "code",
   "execution_count": 4,
   "id": "fabc3080",
   "metadata": {},
   "outputs": [],
   "source": [
    "# Function to parse the main page\n",
    "def parse_main(url):\n",
    "    \n",
    "    '''\n",
    "    Takes a USFSA url containing pages of results and \n",
    "    extracts the links from each individual page\n",
    "    \n",
    "    :param url: A url corresponding to a main results page\n",
    "    :returns: TODO\n",
    "    '''\n",
    "    \n",
    "    \n",
    "\n",
    "# Function to parse each results page\n",
    "def parse_results(html, team = False):\n",
    "    \n",
    "    '''\n",
    "    Takes an html text object containing the results of\n",
    "    one group\n",
    "    \n",
    "    :param html: html text\n",
    "    :param team: A boolean stating whether or not the event is a team \n",
    "    maneuvers event\n",
    "    :returns: A DataFrame containing the place and university\n",
    "    for each start\n",
    "    '''\n",
    "    \n",
    "    # Create a soup object and extract the rows of the results table\n",
    "    soup = bs4.BeautifulSoup(html.text)\n",
    "    res  = soup.find_all(\"td\", attrs = {\"colspan\":1})\n",
    "    rows = soup.find_all(\"tr\")\n",
    "    rows = [x for x in rows if (len(x.find_all(\"td\")) == 9 or len(x.find_all(\"td\")) == 7)]\n",
    "    \n",
    "    # Extract the University names from each page\n",
    "    out = []\n",
    "    for i, x in enumerate(res):\n",
    "        if team:\n",
    "            uni = x.text\n",
    "        else:\n",
    "            uni = x.text.split(\", \")[-1]\n",
    "        out.append([rows[i].find(\"td\").text, uni, rows[i].find_all(\"td\")[-1].text])\n",
    "        \n",
    "    return pd.DataFrame(out, columns = [\"Place\", \"College\", \"Tie\"])"
   ]
  }
 ],
 "metadata": {
  "kernelspec": {
   "display_name": "Python 3 (ipykernel)",
   "language": "python",
   "name": "python3"
  },
  "language_info": {
   "codemirror_mode": {
    "name": "ipython",
    "version": 3
   },
   "file_extension": ".py",
   "mimetype": "text/x-python",
   "name": "python",
   "nbconvert_exporter": "python",
   "pygments_lexer": "ipython3",
   "version": "3.9.7"
  }
 },
 "nbformat": 4,
 "nbformat_minor": 5
}
