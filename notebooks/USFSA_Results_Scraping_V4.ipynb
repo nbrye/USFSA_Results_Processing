{
 "cells": [
  {
   "cell_type": "markdown",
   "id": "3b0770dd",
   "metadata": {},
   "source": [
    "## USFSA Results Scraping"
   ]
  },
  {
   "cell_type": "markdown",
   "id": "d9ff4254",
   "metadata": {},
   "source": [
    "### Part 1: Scraping the Webpages"
   ]
  },
  {
   "cell_type": "markdown",
   "id": "a7fc1843",
   "metadata": {},
   "source": [
    "#### Imports"
   ]
  },
  {
   "cell_type": "code",
   "execution_count": 18,
   "id": "559e25cf",
   "metadata": {},
   "outputs": [],
   "source": [
    "import pandas as pd\n",
    "import requests\n",
    "import bs4\n",
    "from collections import defaultdict\n",
    "import re"
   ]
  },
  {
   "cell_type": "markdown",
   "id": "2b78d678",
   "metadata": {},
   "source": [
    "#### Create a get request for the main URL"
   ]
  },
  {
   "cell_type": "code",
   "execution_count": 19,
   "id": "483a339c",
   "metadata": {},
   "outputs": [],
   "source": [
    "urls = {'2023-nationals': \n",
    "        'https://ijs.usfigureskating.org/leaderboard/nonqual_results/2023/32002/index.html',\n",
    "        \n",
    "        '2023-ride-the-tide': \n",
    "        'https://ijs.usfigureskating.org/leaderboard/nonqual_results/2022/32006/index.html',\n",
    "        \n",
    "        '2023-golden-bear-skate':\n",
    "        'https://ijs.usfigureskating.org/leaderboard/nonqual_results/2022/32004/index.html',\n",
    "        \n",
    "        '2022-pioneer-open':\n",
    "        'https://ijs.usfigureskating.org/leaderboard/nonqual_results/2022/32007/index.html',\n",
    "        \n",
    "        '2023-horsetooth-open':\n",
    "        'https://ijs.usfigureskating.org/leaderboard/nonqual_results/2023/33813/index.html',\n",
    "        \n",
    "        '2023-violet-classic':\n",
    "        'https://ijs.usfigureskating.org/leaderboard/nonqual_results/2023/33799/index.html',\n",
    "        \n",
    "        '2024-DU-Open':\n",
    "        'https://ijs.usfigureskating.org/leaderboard/nonqual_results/2024/33771/index.html',\n",
    "        \n",
    "        '2024-new-england-classic':\n",
    "        'https://ijs.usfigureskating.org/leaderboard/nonqual_results/2024/33831/index.html'\n",
    "       }"
   ]
  },
  {
   "cell_type": "code",
   "execution_count": 20,
   "id": "62c07e6f",
   "metadata": {},
   "outputs": [],
   "source": [
    "# Change url to the competition of choice from the above dictionary\n",
    "main_url = urls['2024-new-england-classic']\n",
    "request  = requests.get(main_url)"
   ]
  },
  {
   "cell_type": "code",
   "execution_count": 21,
   "id": "27aef8c6",
   "metadata": {},
   "outputs": [],
   "source": [
    "# Global Variables\n",
    "soup   = bs4.BeautifulSoup(request.text)\n",
    "events = soup.find_all(\"td\", attrs = {\"rowspan\": 1})\n",
    "links  = soup.find_all(\"td\", attrs = {\"class\": \"cm rb\"})"
   ]
  },
  {
   "cell_type": "code",
   "execution_count": 22,
   "id": "d0689546",
   "metadata": {},
   "outputs": [],
   "source": [
    "baseurl = main_url.replace(\"index.html\", \"\")\n",
    "\n",
    "# Helper function to extract links\n",
    "def extract_link(x):\n",
    "    return x.find(\"a\")[\"href\"]\n",
    "\n",
    "# Extract the url ends for each webpage\n",
    "ends = list(map(extract_link, links))\n",
    "\n",
    "# Request urls for each webpage\n",
    "webpages = [baseurl + i for i in ends]\n",
    "    "
   ]
  },
  {
   "cell_type": "markdown",
   "id": "2f070b9a",
   "metadata": {},
   "source": [
    "#### Function for processing one results page"
   ]
  },
  {
   "cell_type": "code",
   "execution_count": 23,
   "id": "fc138aae",
   "metadata": {},
   "outputs": [],
   "source": [
    "# Function to parse each results page\n",
    "def parse_results(html, team = False):\n",
    "    \n",
    "    '''\n",
    "    Takes an html text object containing the results of\n",
    "    one group\n",
    "    \n",
    "    :params html: html text\n",
    "    :returns: A DataFrame containing the place and university\n",
    "    for each start\n",
    "    '''\n",
    "    \n",
    "    # Create a soup object and extract the rows of the results table\n",
    "    soup = bs4.BeautifulSoup(html.text)\n",
    "    res  = soup.find_all(\"td\", attrs = {\"colspan\":1})\n",
    "    rows = soup.find_all(\"tr\")\n",
    "    \n",
    "    # Events that haven't happened yet\n",
    "    rem = [x for x in rows if (len(x.find_all(\"td\")) == 2)]\n",
    "    \n",
    "    ccounts = []\n",
    "    if rem:\n",
    "        for i, x in enumerate(rem):\n",
    "            if team:\n",
    "                uni = x.text\n",
    "            else:\n",
    "                uni = re.findall('[A-z\\s]*$', x.text.split(', ')[-1])[0]\n",
    "            ccounts.append(uni)\n",
    "        return ccounts\n",
    "    \n",
    "    # Events where results are live\n",
    "    else:\n",
    "        temp = [x for x in rows if (len(x.find_all(\"td\")) == 9 or len(x.find_all(\"td\")) == 7) or \n",
    "                len(x.find_all(\"td\")) == 7]\n",
    "        #temp = [x for x in rows if (len(x.find_all(\"td\")) == 9 or len(x.find_all(\"td\")) == 7)]\n",
    "\n",
    "        # Extract the University names from each page\n",
    "        out  = []\n",
    "        for i, x in enumerate(res):\n",
    "            if team:\n",
    "                uni = x.text\n",
    "            else:\n",
    "                uni = x.text.split(\", \")[-1]\n",
    "            out.append([temp[i].find(\"td\").text, uni, temp[i].find_all(\"td\")[-1].text])\n",
    "        \n",
    "        return pd.DataFrame(out, columns = [\"Place\", \"College\", \"Tie\"])"
   ]
  },
  {
   "cell_type": "markdown",
   "id": "e481b1af",
   "metadata": {},
   "source": [
    "#### Loop through each page and extract the data"
   ]
  },
  {
   "cell_type": "code",
   "execution_count": 24,
   "id": "d6e35a8a",
   "metadata": {},
   "outputs": [],
   "source": [
    "DFS = []\n",
    "CCOUNTS = []\n",
    "for i, x in enumerate(webpages):    \n",
    "    temp = requests.get(x)\n",
    "    try:   \n",
    "        data = parse_results(temp)\n",
    "        \n",
    "        if type(data) == list:\n",
    "            CCOUNTS += data\n",
    "        \n",
    "        else:\n",
    "            data = data.loc[~data[\"Tie\"].str.contains(\"Withdraw\")]\n",
    "            DFS.append(data)\n",
    "    except:\n",
    "        pass   "
   ]
  },
  {
   "cell_type": "markdown",
   "id": "37c5d3e6",
   "metadata": {},
   "source": [
    "### Part 2: Calculating the points awarded for each event"
   ]
  },
  {
   "cell_type": "code",
   "execution_count": 25,
   "id": "3f4d8eb9",
   "metadata": {},
   "outputs": [],
   "source": [
    "lookup = {24: [12, 11, 10, 9, 8, 7, 6, 5, 4, 3, 2, 1, 1, 1, 1, 1, 1, 1, 1, 1, 1, 1, 1, 1],\n",
    "          23: [12, 11, 10, 9, 8, 7, 6, 5, 4, 3, 2, 1, 1, 1, 1, 1, 1, 1, 1, 1, 1, 1, 1],\n",
    "          22: [12, 11, 10, 9, 8, 7, 6, 5, 4, 3, 2, 1, 1, 1, 1, 1, 1, 1, 1, 1, 1, 1],\n",
    "          21: [12, 11, 10, 9, 8, 7, 6, 5, 4, 3, 2, 1, 1, 1, 1, 1, 1, 1, 1, 1, 1],\n",
    "          20: [12, 11, 10, 9, 8, 7, 6, 5, 4, 3, 2, 1, 1, 1, 1, 1, 1, 1, 1, 1],\n",
    "          19: [12, 11, 10, 9, 8, 7, 6, 5, 4, 3, 2, 1, 1, 1, 1, 1, 1, 1, 1],\n",
    "          18: [12, 11, 10, 9, 8, 7, 6, 5, 4, 3, 2, 1, 1, 1, 1, 1, 1, 1],\n",
    "          17: [12, 11, 10, 9, 8, 7, 6, 5, 4, 3, 2, 1, 1, 1, 1, 1, 1],\n",
    "          16: [12, 11, 10, 9, 8, 7, 6, 5, 4, 3, 2, 1, 1, 1, 1, 1],\n",
    "          15: [12, 11, 10, 9, 8, 7, 6, 5, 4, 3, 2, 1, 1, 1, 1],\n",
    "          14: [12, 11, 10, 9, 8, 7, 6, 5, 4, 3, 2, 1, 1, 1],\n",
    "          13: [12, 11, 10, 9, 8, 7, 6, 5, 4, 3, 2, 1, 1],\n",
    "          12: [12, 11, 10, 9, 8, 7, 6, 5, 4, 3, 2, 1],\n",
    "          11: [12, 10, 9, 8, 7, 6, 5, 4, 3, 2, 1],\n",
    "          10: [12, 10, 8, 7, 6, 5, 4, 3, 2, 1],\n",
    "          9: [12, 10, 8, 6, 5, 4, 3, 2, 1],\n",
    "          8: [12, 10, 8, 6, 4, 3, 2, 1],\n",
    "          7: [12, 10, 8, 6, 4, 2, 1],\n",
    "          6: [12, 10, 8, 6, 4, 2],\n",
    "          5: [10, 8, 6, 4, 2],\n",
    "          4: [8, 6, 4, 2],\n",
    "          3: [6, 4, 2],\n",
    "          2: [6, 4],\n",
    "          1: [6]\n",
    "         }"
   ]
  },
  {
   "cell_type": "code",
   "execution_count": 26,
   "id": "f05d2c07",
   "metadata": {},
   "outputs": [],
   "source": [
    "OUT = []\n",
    "for i, x in enumerate(DFS):\n",
    "    num = len(x)\n",
    "    \n",
    "    # Assign a number of points to each column\n",
    "    x = x.assign(points = lookup[num])\n",
    "\n",
    "    # Handle ties\n",
    "    temp = x.groupby(\"Place\")[\"points\"].transform(lambda x: x.mean())\n",
    "    x = x.assign(points = temp)\n",
    "    \n",
    "    # Handle championship event edge case\n",
    "    if \"Championship\" in events[i].text or \"International\" in events[i].text:\n",
    "        x[\"points\"] = x[\"points\"] + 2\n",
    "    \n",
    "    OUT.append(x)"
   ]
  },
  {
   "cell_type": "code",
   "execution_count": 27,
   "id": "d2154eb8",
   "metadata": {},
   "outputs": [],
   "source": [
    "try:\n",
    "    FULL = pd.concat(OUT)\n",
    "\n",
    "    # Eliminate the error where it says 'U' instead of 'University'\n",
    "    # Keep in mind there are still a few errors with the names of the colleges\n",
    "    # that I have not fixed yet\n",
    "    import re\n",
    "    FULL['College'] = FULL['College'].apply(lambda x: re.sub('^U ', 'University ', x))\n",
    "    FULL['College'] = FULL['College'].apply(lambda x: re.sub(' U$', ' University', x))\n",
    "except:\n",
    "    print('Competition has not started yet!')"
   ]
  },
  {
   "cell_type": "markdown",
   "id": "d690beb1",
   "metadata": {},
   "source": [
    "#### Team Standings"
   ]
  },
  {
   "cell_type": "code",
   "execution_count": 28,
   "id": "e241490e",
   "metadata": {
    "scrolled": false
   },
   "outputs": [
    {
     "data": {
      "text/plain": [
       "College\n",
       "Boston University          279.0\n",
       "New York University        272.0\n",
       "Sacred Heart University    258.0\n",
       "Dartmouth College          253.0\n",
       "Cornell University         245.0\n",
       "Northeastern University    172.0\n",
       "Univ of Connecticut        151.0\n",
       "Columbia University        130.0\n",
       "University of Vermont       73.0\n",
       "University of Rochester     52.0\n",
       "Merrimack College           51.0\n",
       "Brown University            50.0\n",
       "Yale University             49.0\n",
       "MIT                         41.0\n",
       "Boston College              40.0\n",
       "University of Maine         40.0\n",
       "Quinnipiac University       31.0\n",
       "UMASS Lowell                30.0\n",
       "Harvard University          20.0\n",
       "Providence College          14.0\n",
       "Amherst College             12.0\n",
       "Holy Cross                   5.0\n",
       "Stony Brook University       1.0\n",
       "Name: points, dtype: float64"
      ]
     },
     "execution_count": 28,
     "metadata": {},
     "output_type": "execute_result"
    }
   ],
   "source": [
    "A = FULL.groupby(\"College\")[\"points\"].sum().sort_values(ascending = False)\n",
    "A"
   ]
  },
  {
   "cell_type": "markdown",
   "id": "b28a15c7",
   "metadata": {},
   "source": [
    "#### Number of Starts per Team"
   ]
  },
  {
   "cell_type": "code",
   "execution_count": 29,
   "id": "20873d16",
   "metadata": {},
   "outputs": [
    {
     "data": {
      "text/plain": [
       "College\n",
       "New York University        30\n",
       "Boston University          30\n",
       "Cornell University         30\n",
       "Dartmouth College          30\n",
       "Northeastern University    30\n",
       "Sacred Heart University    30\n",
       "Univ of Connecticut        29\n",
       "Columbia University        28\n",
       "University of Vermont      21\n",
       "Merrimack College          17\n",
       "University of Maine        14\n",
       "MIT                        13\n",
       "Quinnipiac University      12\n",
       "University of Rochester    12\n",
       "Yale University            12\n",
       "Brown University           12\n",
       "Boston College              8\n",
       "UMASS Lowell                6\n",
       "Harvard University          4\n",
       "Amherst College             3\n",
       "Providence College          2\n",
       "Holy Cross                  2\n",
       "Stony Brook University      1\n",
       "Name: Place, dtype: int64"
      ]
     },
     "execution_count": 29,
     "metadata": {},
     "output_type": "execute_result"
    }
   ],
   "source": [
    "B = FULL.groupby(\"College\").count()[\"Place\"].sort_values(ascending=False)\n",
    "B"
   ]
  },
  {
   "cell_type": "markdown",
   "id": "31924819",
   "metadata": {},
   "source": [
    "#### Points per start ratio"
   ]
  },
  {
   "cell_type": "code",
   "execution_count": 30,
   "id": "a871ca67",
   "metadata": {
    "scrolled": true
   },
   "outputs": [
    {
     "data": {
      "text/html": [
       "<div>\n",
       "<style scoped>\n",
       "    .dataframe tbody tr th:only-of-type {\n",
       "        vertical-align: middle;\n",
       "    }\n",
       "\n",
       "    .dataframe tbody tr th {\n",
       "        vertical-align: top;\n",
       "    }\n",
       "\n",
       "    .dataframe thead th {\n",
       "        text-align: right;\n",
       "    }\n",
       "</style>\n",
       "<table border=\"1\" class=\"dataframe\">\n",
       "  <thead>\n",
       "    <tr style=\"text-align: right;\">\n",
       "      <th></th>\n",
       "      <th>Points</th>\n",
       "      <th>Number of Starts</th>\n",
       "      <th>Ratio</th>\n",
       "    </tr>\n",
       "    <tr>\n",
       "      <th>College</th>\n",
       "      <th></th>\n",
       "      <th></th>\n",
       "      <th></th>\n",
       "    </tr>\n",
       "  </thead>\n",
       "  <tbody>\n",
       "    <tr>\n",
       "      <th>Boston University</th>\n",
       "      <td>279.0</td>\n",
       "      <td>30</td>\n",
       "      <td>9.300000</td>\n",
       "    </tr>\n",
       "    <tr>\n",
       "      <th>New York University</th>\n",
       "      <td>272.0</td>\n",
       "      <td>30</td>\n",
       "      <td>9.066667</td>\n",
       "    </tr>\n",
       "    <tr>\n",
       "      <th>Sacred Heart University</th>\n",
       "      <td>258.0</td>\n",
       "      <td>30</td>\n",
       "      <td>8.600000</td>\n",
       "    </tr>\n",
       "    <tr>\n",
       "      <th>Dartmouth College</th>\n",
       "      <td>253.0</td>\n",
       "      <td>30</td>\n",
       "      <td>8.433333</td>\n",
       "    </tr>\n",
       "    <tr>\n",
       "      <th>Cornell University</th>\n",
       "      <td>245.0</td>\n",
       "      <td>30</td>\n",
       "      <td>8.166667</td>\n",
       "    </tr>\n",
       "    <tr>\n",
       "      <th>Providence College</th>\n",
       "      <td>14.0</td>\n",
       "      <td>2</td>\n",
       "      <td>7.000000</td>\n",
       "    </tr>\n",
       "    <tr>\n",
       "      <th>Northeastern University</th>\n",
       "      <td>172.0</td>\n",
       "      <td>30</td>\n",
       "      <td>5.733333</td>\n",
       "    </tr>\n",
       "    <tr>\n",
       "      <th>Univ of Connecticut</th>\n",
       "      <td>151.0</td>\n",
       "      <td>29</td>\n",
       "      <td>5.206897</td>\n",
       "    </tr>\n",
       "    <tr>\n",
       "      <th>Boston College</th>\n",
       "      <td>40.0</td>\n",
       "      <td>8</td>\n",
       "      <td>5.000000</td>\n",
       "    </tr>\n",
       "    <tr>\n",
       "      <th>Harvard University</th>\n",
       "      <td>20.0</td>\n",
       "      <td>4</td>\n",
       "      <td>5.000000</td>\n",
       "    </tr>\n",
       "    <tr>\n",
       "      <th>UMASS Lowell</th>\n",
       "      <td>30.0</td>\n",
       "      <td>6</td>\n",
       "      <td>5.000000</td>\n",
       "    </tr>\n",
       "    <tr>\n",
       "      <th>Columbia University</th>\n",
       "      <td>130.0</td>\n",
       "      <td>28</td>\n",
       "      <td>4.642857</td>\n",
       "    </tr>\n",
       "    <tr>\n",
       "      <th>University of Rochester</th>\n",
       "      <td>52.0</td>\n",
       "      <td>12</td>\n",
       "      <td>4.333333</td>\n",
       "    </tr>\n",
       "    <tr>\n",
       "      <th>Brown University</th>\n",
       "      <td>50.0</td>\n",
       "      <td>12</td>\n",
       "      <td>4.166667</td>\n",
       "    </tr>\n",
       "    <tr>\n",
       "      <th>Yale University</th>\n",
       "      <td>49.0</td>\n",
       "      <td>12</td>\n",
       "      <td>4.083333</td>\n",
       "    </tr>\n",
       "    <tr>\n",
       "      <th>Amherst College</th>\n",
       "      <td>12.0</td>\n",
       "      <td>3</td>\n",
       "      <td>4.000000</td>\n",
       "    </tr>\n",
       "    <tr>\n",
       "      <th>University of Vermont</th>\n",
       "      <td>73.0</td>\n",
       "      <td>21</td>\n",
       "      <td>3.476190</td>\n",
       "    </tr>\n",
       "    <tr>\n",
       "      <th>MIT</th>\n",
       "      <td>41.0</td>\n",
       "      <td>13</td>\n",
       "      <td>3.153846</td>\n",
       "    </tr>\n",
       "    <tr>\n",
       "      <th>Merrimack College</th>\n",
       "      <td>51.0</td>\n",
       "      <td>17</td>\n",
       "      <td>3.000000</td>\n",
       "    </tr>\n",
       "    <tr>\n",
       "      <th>University of Maine</th>\n",
       "      <td>40.0</td>\n",
       "      <td>14</td>\n",
       "      <td>2.857143</td>\n",
       "    </tr>\n",
       "    <tr>\n",
       "      <th>Quinnipiac University</th>\n",
       "      <td>31.0</td>\n",
       "      <td>12</td>\n",
       "      <td>2.583333</td>\n",
       "    </tr>\n",
       "    <tr>\n",
       "      <th>Holy Cross</th>\n",
       "      <td>5.0</td>\n",
       "      <td>2</td>\n",
       "      <td>2.500000</td>\n",
       "    </tr>\n",
       "    <tr>\n",
       "      <th>Stony Brook University</th>\n",
       "      <td>1.0</td>\n",
       "      <td>1</td>\n",
       "      <td>1.000000</td>\n",
       "    </tr>\n",
       "  </tbody>\n",
       "</table>\n",
       "</div>"
      ],
      "text/plain": [
       "                         Points  Number of Starts     Ratio\n",
       "College                                                    \n",
       "Boston University         279.0                30  9.300000\n",
       "New York University       272.0                30  9.066667\n",
       "Sacred Heart University   258.0                30  8.600000\n",
       "Dartmouth College         253.0                30  8.433333\n",
       "Cornell University        245.0                30  8.166667\n",
       "Providence College         14.0                 2  7.000000\n",
       "Northeastern University   172.0                30  5.733333\n",
       "Univ of Connecticut       151.0                29  5.206897\n",
       "Boston College             40.0                 8  5.000000\n",
       "Harvard University         20.0                 4  5.000000\n",
       "UMASS Lowell               30.0                 6  5.000000\n",
       "Columbia University       130.0                28  4.642857\n",
       "University of Rochester    52.0                12  4.333333\n",
       "Brown University           50.0                12  4.166667\n",
       "Yale University            49.0                12  4.083333\n",
       "Amherst College            12.0                 3  4.000000\n",
       "University of Vermont      73.0                21  3.476190\n",
       "MIT                        41.0                13  3.153846\n",
       "Merrimack College          51.0                17  3.000000\n",
       "University of Maine        40.0                14  2.857143\n",
       "Quinnipiac University      31.0                12  2.583333\n",
       "Holy Cross                  5.0                 2  2.500000\n",
       "Stony Brook University      1.0                 1  1.000000"
      ]
     },
     "execution_count": 30,
     "metadata": {},
     "output_type": "execute_result"
    }
   ],
   "source": [
    "C = pd.merge(A.to_frame(), B.to_frame(), left_index=True, right_index=True)\n",
    "C.columns = [\"Points\", \"Number of Starts\"]\n",
    "\n",
    "C[\"Ratio\"] = C[\"Points\"] / C[\"Number of Starts\"]\n",
    "C.sort_values(by=\"Ratio\", ascending = False)"
   ]
  },
  {
   "cell_type": "markdown",
   "id": "8d8d2320",
   "metadata": {},
   "source": [
    "#### Starts Remaining"
   ]
  },
  {
   "cell_type": "code",
   "execution_count": 36,
   "id": "901a0d6a",
   "metadata": {},
   "outputs": [],
   "source": [
    "REM = pd.Series(CCOUNTS).value_counts()"
   ]
  },
  {
   "cell_type": "code",
   "execution_count": 40,
   "id": "1f76a3bb",
   "metadata": {},
   "outputs": [
    {
     "data": {
      "text/html": [
       "<div>\n",
       "<style scoped>\n",
       "    .dataframe tbody tr th:only-of-type {\n",
       "        vertical-align: middle;\n",
       "    }\n",
       "\n",
       "    .dataframe tbody tr th {\n",
       "        vertical-align: top;\n",
       "    }\n",
       "\n",
       "    .dataframe thead th {\n",
       "        text-align: right;\n",
       "    }\n",
       "</style>\n",
       "<table border=\"1\" class=\"dataframe\">\n",
       "  <thead>\n",
       "    <tr style=\"text-align: right;\">\n",
       "      <th></th>\n",
       "      <th>Points</th>\n",
       "      <th>Number of Starts</th>\n",
       "      <th>Ratio</th>\n",
       "      <th>Starts Remaining</th>\n",
       "      <th>Predicted Points</th>\n",
       "    </tr>\n",
       "    <tr>\n",
       "      <th>College</th>\n",
       "      <th></th>\n",
       "      <th></th>\n",
       "      <th></th>\n",
       "      <th></th>\n",
       "      <th></th>\n",
       "    </tr>\n",
       "  </thead>\n",
       "  <tbody>\n",
       "    <tr>\n",
       "      <th>Boston University</th>\n",
       "      <td>279.0</td>\n",
       "      <td>30</td>\n",
       "      <td>9.300000</td>\n",
       "      <td>NaN</td>\n",
       "      <td>NaN</td>\n",
       "    </tr>\n",
       "    <tr>\n",
       "      <th>New York University</th>\n",
       "      <td>272.0</td>\n",
       "      <td>30</td>\n",
       "      <td>9.066667</td>\n",
       "      <td>NaN</td>\n",
       "      <td>NaN</td>\n",
       "    </tr>\n",
       "    <tr>\n",
       "      <th>Sacred Heart University</th>\n",
       "      <td>258.0</td>\n",
       "      <td>30</td>\n",
       "      <td>8.600000</td>\n",
       "      <td>NaN</td>\n",
       "      <td>NaN</td>\n",
       "    </tr>\n",
       "    <tr>\n",
       "      <th>Dartmouth College</th>\n",
       "      <td>253.0</td>\n",
       "      <td>30</td>\n",
       "      <td>8.433333</td>\n",
       "      <td>NaN</td>\n",
       "      <td>NaN</td>\n",
       "    </tr>\n",
       "    <tr>\n",
       "      <th>Cornell University</th>\n",
       "      <td>245.0</td>\n",
       "      <td>30</td>\n",
       "      <td>8.166667</td>\n",
       "      <td>NaN</td>\n",
       "      <td>NaN</td>\n",
       "    </tr>\n",
       "    <tr>\n",
       "      <th>Northeastern University</th>\n",
       "      <td>172.0</td>\n",
       "      <td>30</td>\n",
       "      <td>5.733333</td>\n",
       "      <td>NaN</td>\n",
       "      <td>NaN</td>\n",
       "    </tr>\n",
       "    <tr>\n",
       "      <th>Univ of Connecticut</th>\n",
       "      <td>151.0</td>\n",
       "      <td>29</td>\n",
       "      <td>5.206897</td>\n",
       "      <td>NaN</td>\n",
       "      <td>NaN</td>\n",
       "    </tr>\n",
       "    <tr>\n",
       "      <th>Columbia University</th>\n",
       "      <td>130.0</td>\n",
       "      <td>28</td>\n",
       "      <td>4.642857</td>\n",
       "      <td>NaN</td>\n",
       "      <td>NaN</td>\n",
       "    </tr>\n",
       "    <tr>\n",
       "      <th>University of Vermont</th>\n",
       "      <td>73.0</td>\n",
       "      <td>21</td>\n",
       "      <td>3.476190</td>\n",
       "      <td>NaN</td>\n",
       "      <td>NaN</td>\n",
       "    </tr>\n",
       "    <tr>\n",
       "      <th>University of Rochester</th>\n",
       "      <td>52.0</td>\n",
       "      <td>12</td>\n",
       "      <td>4.333333</td>\n",
       "      <td>NaN</td>\n",
       "      <td>NaN</td>\n",
       "    </tr>\n",
       "    <tr>\n",
       "      <th>Merrimack College</th>\n",
       "      <td>51.0</td>\n",
       "      <td>17</td>\n",
       "      <td>3.000000</td>\n",
       "      <td>NaN</td>\n",
       "      <td>NaN</td>\n",
       "    </tr>\n",
       "    <tr>\n",
       "      <th>Brown University</th>\n",
       "      <td>50.0</td>\n",
       "      <td>12</td>\n",
       "      <td>4.166667</td>\n",
       "      <td>NaN</td>\n",
       "      <td>NaN</td>\n",
       "    </tr>\n",
       "    <tr>\n",
       "      <th>Yale University</th>\n",
       "      <td>49.0</td>\n",
       "      <td>12</td>\n",
       "      <td>4.083333</td>\n",
       "      <td>NaN</td>\n",
       "      <td>NaN</td>\n",
       "    </tr>\n",
       "    <tr>\n",
       "      <th>MIT</th>\n",
       "      <td>41.0</td>\n",
       "      <td>13</td>\n",
       "      <td>3.153846</td>\n",
       "      <td>NaN</td>\n",
       "      <td>NaN</td>\n",
       "    </tr>\n",
       "    <tr>\n",
       "      <th>Boston College</th>\n",
       "      <td>40.0</td>\n",
       "      <td>8</td>\n",
       "      <td>5.000000</td>\n",
       "      <td>NaN</td>\n",
       "      <td>NaN</td>\n",
       "    </tr>\n",
       "    <tr>\n",
       "      <th>University of Maine</th>\n",
       "      <td>40.0</td>\n",
       "      <td>14</td>\n",
       "      <td>2.857143</td>\n",
       "      <td>NaN</td>\n",
       "      <td>NaN</td>\n",
       "    </tr>\n",
       "    <tr>\n",
       "      <th>Quinnipiac University</th>\n",
       "      <td>31.0</td>\n",
       "      <td>12</td>\n",
       "      <td>2.583333</td>\n",
       "      <td>NaN</td>\n",
       "      <td>NaN</td>\n",
       "    </tr>\n",
       "    <tr>\n",
       "      <th>UMASS Lowell</th>\n",
       "      <td>30.0</td>\n",
       "      <td>6</td>\n",
       "      <td>5.000000</td>\n",
       "      <td>NaN</td>\n",
       "      <td>NaN</td>\n",
       "    </tr>\n",
       "    <tr>\n",
       "      <th>Harvard University</th>\n",
       "      <td>20.0</td>\n",
       "      <td>4</td>\n",
       "      <td>5.000000</td>\n",
       "      <td>NaN</td>\n",
       "      <td>NaN</td>\n",
       "    </tr>\n",
       "    <tr>\n",
       "      <th>Providence College</th>\n",
       "      <td>14.0</td>\n",
       "      <td>2</td>\n",
       "      <td>7.000000</td>\n",
       "      <td>NaN</td>\n",
       "      <td>NaN</td>\n",
       "    </tr>\n",
       "    <tr>\n",
       "      <th>Amherst College</th>\n",
       "      <td>12.0</td>\n",
       "      <td>3</td>\n",
       "      <td>4.000000</td>\n",
       "      <td>NaN</td>\n",
       "      <td>NaN</td>\n",
       "    </tr>\n",
       "    <tr>\n",
       "      <th>Holy Cross</th>\n",
       "      <td>5.0</td>\n",
       "      <td>2</td>\n",
       "      <td>2.500000</td>\n",
       "      <td>NaN</td>\n",
       "      <td>NaN</td>\n",
       "    </tr>\n",
       "    <tr>\n",
       "      <th>Stony Brook University</th>\n",
       "      <td>1.0</td>\n",
       "      <td>1</td>\n",
       "      <td>1.000000</td>\n",
       "      <td>NaN</td>\n",
       "      <td>NaN</td>\n",
       "    </tr>\n",
       "  </tbody>\n",
       "</table>\n",
       "</div>"
      ],
      "text/plain": [
       "                         Points  Number of Starts     Ratio  Starts Remaining  \\\n",
       "College                                                                         \n",
       "Boston University         279.0                30  9.300000               NaN   \n",
       "New York University       272.0                30  9.066667               NaN   \n",
       "Sacred Heart University   258.0                30  8.600000               NaN   \n",
       "Dartmouth College         253.0                30  8.433333               NaN   \n",
       "Cornell University        245.0                30  8.166667               NaN   \n",
       "Northeastern University   172.0                30  5.733333               NaN   \n",
       "Univ of Connecticut       151.0                29  5.206897               NaN   \n",
       "Columbia University       130.0                28  4.642857               NaN   \n",
       "University of Vermont      73.0                21  3.476190               NaN   \n",
       "University of Rochester    52.0                12  4.333333               NaN   \n",
       "Merrimack College          51.0                17  3.000000               NaN   \n",
       "Brown University           50.0                12  4.166667               NaN   \n",
       "Yale University            49.0                12  4.083333               NaN   \n",
       "MIT                        41.0                13  3.153846               NaN   \n",
       "Boston College             40.0                 8  5.000000               NaN   \n",
       "University of Maine        40.0                14  2.857143               NaN   \n",
       "Quinnipiac University      31.0                12  2.583333               NaN   \n",
       "UMASS Lowell               30.0                 6  5.000000               NaN   \n",
       "Harvard University         20.0                 4  5.000000               NaN   \n",
       "Providence College         14.0                 2  7.000000               NaN   \n",
       "Amherst College            12.0                 3  4.000000               NaN   \n",
       "Holy Cross                  5.0                 2  2.500000               NaN   \n",
       "Stony Brook University      1.0                 1  1.000000               NaN   \n",
       "\n",
       "                         Predicted Points  \n",
       "College                                    \n",
       "Boston University                     NaN  \n",
       "New York University                   NaN  \n",
       "Sacred Heart University               NaN  \n",
       "Dartmouth College                     NaN  \n",
       "Cornell University                    NaN  \n",
       "Northeastern University               NaN  \n",
       "Univ of Connecticut                   NaN  \n",
       "Columbia University                   NaN  \n",
       "University of Vermont                 NaN  \n",
       "University of Rochester               NaN  \n",
       "Merrimack College                     NaN  \n",
       "Brown University                      NaN  \n",
       "Yale University                       NaN  \n",
       "MIT                                   NaN  \n",
       "Boston College                        NaN  \n",
       "University of Maine                   NaN  \n",
       "Quinnipiac University                 NaN  \n",
       "UMASS Lowell                          NaN  \n",
       "Harvard University                    NaN  \n",
       "Providence College                    NaN  \n",
       "Amherst College                       NaN  \n",
       "Holy Cross                            NaN  \n",
       "Stony Brook University                NaN  "
      ]
     },
     "execution_count": 40,
     "metadata": {},
     "output_type": "execute_result"
    }
   ],
   "source": [
    "D = pd.merge(C, REM, how='left', left_index=True, right_index=True)\n",
    "D.columns = list(D.columns[:-1]) + ['Starts Remaining']\n",
    "D['Predicted Points'] = D['Starts Remaining'] * D['Ratio'] + D['Points']\n",
    "D.sort_values(by=\"Predicted Points\", ascending = False)"
   ]
  },
  {
   "cell_type": "markdown",
   "id": "523e7960",
   "metadata": {},
   "source": [
    "#### Number of Starts"
   ]
  },
  {
   "cell_type": "code",
   "execution_count": 41,
   "id": "efcd404b",
   "metadata": {},
   "outputs": [
    {
     "data": {
      "text/plain": [
       "376"
      ]
     },
     "execution_count": 41,
     "metadata": {},
     "output_type": "execute_result"
    }
   ],
   "source": [
    "C[\"Number of Starts\"].sum()"
   ]
  },
  {
   "cell_type": "markdown",
   "id": "c3976fbe",
   "metadata": {},
   "source": [
    "#### To get a general count of how many of each type of official each competition has"
   ]
  },
  {
   "cell_type": "code",
   "execution_count": 42,
   "id": "e1ef52a6",
   "metadata": {},
   "outputs": [],
   "source": [
    "import numpy as np"
   ]
  },
  {
   "cell_type": "code",
   "execution_count": 43,
   "id": "b085c8e3",
   "metadata": {},
   "outputs": [],
   "source": [
    "DFS = []\n",
    "for i, x in enumerate(webpages):\n",
    "    temp = requests.get(x)\n",
    "    "
   ]
  },
  {
   "cell_type": "code",
   "execution_count": 44,
   "id": "538995f0",
   "metadata": {},
   "outputs": [],
   "source": [
    "def process_judges(text):\n",
    "    soup = bs4.BeautifulSoup(text)\n",
    "    tabs = np.array(list(map(lambda x: x.text, soup.find_all('td'))))\n",
    "    offs = tabs[np.where(tabs == 'Judge 1')[0][0]:][1::3][:-1]\n",
    "    return list(offs)"
   ]
  },
  {
   "cell_type": "code",
   "execution_count": 45,
   "id": "667ab9aa",
   "metadata": {},
   "outputs": [],
   "source": [
    "def process_referees(text):\n",
    "    soup = bs4.BeautifulSoup(text)\n",
    "    tabs = tabs = np.array(list(map(lambda x: x.text, soup.find_all('td'))))\n",
    "    refs = tabs[np.where(tabs == 'Referee')[0][0] + 1]\n",
    "    return [refs]"
   ]
  },
  {
   "cell_type": "code",
   "execution_count": 46,
   "id": "2a220fe4",
   "metadata": {},
   "outputs": [],
   "source": [
    "def process_accountants(text):\n",
    "    soup = bs4.BeautifulSoup(text)\n",
    "    tabs = tabs = np.array(list(map(lambda x: x.text, soup.find_all('td'))))\n",
    "    accs = tabs[np.where(tabs == 'Accountant')[0][0] + 1]\n",
    "    return [accs]"
   ]
  },
  {
   "cell_type": "code",
   "execution_count": 47,
   "id": "f4cd895c",
   "metadata": {},
   "outputs": [],
   "source": [
    "JUDGES = []\n",
    "for i, x in enumerate(webpages):\n",
    "    temp = requests.get(x)\n",
    "    jlst = process_judges(temp.text)\n",
    "    JUDGES += jlst"
   ]
  },
  {
   "cell_type": "code",
   "execution_count": 48,
   "id": "0fbb74e3",
   "metadata": {},
   "outputs": [],
   "source": [
    "REFEREES = []\n",
    "for i, x in enumerate(webpages):\n",
    "    temp = requests.get(x)\n",
    "    rlst = process_referees(temp.text)\n",
    "    REFEREES += rlst"
   ]
  },
  {
   "cell_type": "code",
   "execution_count": 49,
   "id": "03300551",
   "metadata": {},
   "outputs": [],
   "source": [
    "ACCOUNTANTS = []\n",
    "for i, x in enumerate(webpages):\n",
    "    temp = requests.get(x)\n",
    "    alst = process_accountants(temp.text)\n",
    "    ACCOUNTANTS += alst"
   ]
  },
  {
   "cell_type": "code",
   "execution_count": 50,
   "id": "2139e4b2",
   "metadata": {},
   "outputs": [
    {
     "data": {
      "text/plain": [
       "array(['Elly Atwood', 'Christopher Brunner', 'Constance Cataldo',\n",
       "       'Nancy Crossman', 'Theresa Dragos', 'Mary-Elizabeth Wightman',\n",
       "       'Amelie Johnson', 'Susan Keogh', 'Meghan Lapointe', 'Marie Truppa',\n",
       "       'Susan Scott', 'Sarahjayne Howland*', 'Arthur Bahr',\n",
       "       'Emilieanne Koehnlein', 'Rebecca Ye', 'Chia Ying Lee',\n",
       "       'Laura Days'], dtype=object)"
      ]
     },
     "execution_count": 50,
     "metadata": {},
     "output_type": "execute_result"
    }
   ],
   "source": [
    "pd.Series(JUDGES).unique()"
   ]
  },
  {
   "cell_type": "code",
   "execution_count": 51,
   "id": "7b3ffca6",
   "metadata": {},
   "outputs": [
    {
     "data": {
      "text/plain": [
       "array(['Elly Atwood', 'Ann Buckley', 'Susan Keogh', 'Sarahjayne Howland*',\n",
       "       'Susan Scott'], dtype=object)"
      ]
     },
     "execution_count": 51,
     "metadata": {},
     "output_type": "execute_result"
    }
   ],
   "source": [
    "pd.Series(REFEREES).unique()"
   ]
  },
  {
   "cell_type": "code",
   "execution_count": 52,
   "id": "3c63f315",
   "metadata": {},
   "outputs": [
    {
     "data": {
      "text/plain": [
       "array(['Caryn Bickerstaff*'], dtype=object)"
      ]
     },
     "execution_count": 52,
     "metadata": {},
     "output_type": "execute_result"
    }
   ],
   "source": [
    "pd.Series(ACCOUNTANTS).unique()"
   ]
  }
 ],
 "metadata": {
  "kernelspec": {
   "display_name": "Python 3 (ipykernel)",
   "language": "python",
   "name": "python3"
  },
  "language_info": {
   "codemirror_mode": {
    "name": "ipython",
    "version": 3
   },
   "file_extension": ".py",
   "mimetype": "text/x-python",
   "name": "python",
   "nbconvert_exporter": "python",
   "pygments_lexer": "ipython3",
   "version": "3.9.7"
  }
 },
 "nbformat": 4,
 "nbformat_minor": 5
}
