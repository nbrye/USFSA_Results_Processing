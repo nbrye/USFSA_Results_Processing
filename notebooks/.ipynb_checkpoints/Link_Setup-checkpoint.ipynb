{
 "cells": [
  {
   "cell_type": "markdown",
   "id": "31745258",
   "metadata": {},
   "source": [
    "## Scraping Collegiate Schedule from US Figure Skating Fanzone"
   ]
  },
  {
   "cell_type": "markdown",
   "id": "918ed6ea",
   "metadata": {},
   "source": [
    "#### Imports"
   ]
  },
  {
   "cell_type": "code",
   "execution_count": 1,
   "id": "23fad9d0",
   "metadata": {},
   "outputs": [],
   "source": [
    "import pandas as pd\n",
    "import requests\n",
    "import bs4"
   ]
  },
  {
   "cell_type": "markdown",
   "id": "1a62d527",
   "metadata": {},
   "source": [
    "#### Global Variables"
   ]
  },
  {
   "cell_type": "code",
   "execution_count": 3,
   "id": "b23a92c5",
   "metadata": {},
   "outputs": [],
   "source": [
    "# Season\n",
    "season = \"2022-23\"\n",
    "\n",
    "# Link to US Figure Skating Fanzone\n",
    "url = f\"https://usfigureskatingfanzone.com/sports/collegiate-skating/schedule/{season}\""
   ]
  },
  {
   "cell_type": "markdown",
   "id": "47b52f90",
   "metadata": {},
   "source": [
    "#### Making the Request"
   ]
  },
  {
   "cell_type": "code",
   "execution_count": 4,
   "id": "7df69ffa",
   "metadata": {},
   "outputs": [],
   "source": [
    "# IMPORTANT: Requests for generic user agents must not be made within 30s of one another\n",
    "request = requests.get(url)"
   ]
  },
  {
   "cell_type": "code",
   "execution_count": 8,
   "id": "b77832d0",
   "metadata": {},
   "outputs": [],
   "source": [
    "soup = bs4.BeautifulSoup(request.text)"
   ]
  },
  {
   "cell_type": "code",
   "execution_count": 29,
   "id": "95e73e02",
   "metadata": {},
   "outputs": [],
   "source": [
    "def extract_urls(soup):\n",
    "    '''\n",
    "    Creates a nested dictionary of sections and competition numberings\n",
    "    \n",
    "    :param soup: A BeautifulSoup object from the US FS Fanzone url\n",
    "    :returns: A nested dictionary filled with sections, competition \n",
    "    numberings, and main urls for each competition\n",
    "    '''\n",
    "    \n",
    "    # Helper to determine the correct results pages\n",
    "    def _is_results(x):\n",
    "        return \"INDIVIDUAL\" in x if x else False\n",
    "    \n",
    "    # Helper to extract the competition section\n",
    "    def _extract_section(x): \n",
    "        temp = x[\"aria-label\"].split(\":\")[0].split()\n",
    "        \n",
    "        if temp[-1] == \"Coast\":\n",
    "            return \" \".join(temp[-2:])\n",
    "        else:\n",
    "            return temp[-1]\n",
    "    \n",
    "    # Extract the individual results\n",
    "    objs = soup.find_all(\"a\", attrs = {\"aria-label\": _is_results})\n",
    "    \n",
    "    # Find all of the sections\n",
    "    URLS = []\n",
    "    SECTIONS = []\n",
    "    for x in objs:\n",
    "        URLS.append(x[\"href\"])\n",
    "        SECTIONS.append(_extract_section(x)) \n",
    "        \n",
    "    # Create counts for each section\n",
    "    COUNTS = {SECTIONS[i]: 0 for i in range(len(SECTIONS))}\n",
    "    \n",
    "        \n",
    "    return URLS\n"
   ]
  },
  {
   "cell_type": "code",
   "execution_count": 30,
   "id": "ba29ed66",
   "metadata": {},
   "outputs": [
    {
     "data": {
      "text/plain": [
       "['https://ijs.usfigureskating.org/leaderboard/nonqual_results/2022/32005/index.html',\n",
       " 'https://ijs.usfigureskating.org/leaderboard/nonqual_results/2022/32005/index.html',\n",
       " 'https://ijs.usfigureskating.org/leaderboard/nonqual_results/2022/32017/index.html',\n",
       " 'https://ijs.usfigureskating.org/leaderboard/nonqual_results/2022/32017/index.html',\n",
       " 'https://ijs.usfigureskating.org/leaderboard/nonqual_results/2022/32007/index.html',\n",
       " 'https://ijs.usfigureskating.org/leaderboard/nonqual_results/2022/32007/index.html',\n",
       " 'https://usfigureskatingfanzone.com/documents/2022/11/22/Sunshine_Classic_2022_Individual_Results.pdf',\n",
       " 'https://usfigureskatingfanzone.com/documents/2022/11/22/Sunshine_Classic_2022_Individual_Results.pdf']"
      ]
     },
     "execution_count": 30,
     "metadata": {},
     "output_type": "execute_result"
    }
   ],
   "source": [
    "extract_urls(soup)"
   ]
  },
  {
   "cell_type": "code",
   "execution_count": 19,
   "id": "6b595f00",
   "metadata": {},
   "outputs": [
    {
     "data": {
      "text/plain": [
       "[<a aria-label=\"INDIVIDUAL RESULTS for Collegiate Skating vs Midwest: Case Western Reserve University on October 29, 2022 at \" href=\"https://ijs.usfigureskating.org/leaderboard/nonqual_results/2022/32005/index.html\">INDIVIDUAL RESULTS</a>,\n",
       " <a aria-label=\"INDIVIDUAL RESULTS for Collegiate Skating vs Midwest: Case Western Reserve University on October 29, 2022 at \" href=\"https://ijs.usfigureskating.org/leaderboard/nonqual_results/2022/32005/index.html\" target=\"_blank\">INDIVIDUAL RESULTS</a>,\n",
       " <a aria-label=\"INDIVIDUAL RESULTS for Collegiate Skating vs Northeast: New York University on November 5, 2022 at \" href=\"https://ijs.usfigureskating.org/leaderboard/nonqual_results/2022/32017/index.html\">INDIVIDUAL RESULTS</a>,\n",
       " <a aria-label=\"INDIVIDUAL RESULTS for Collegiate Skating vs Northeast: New York University on November 5, 2022 at \" href=\"https://ijs.usfigureskating.org/leaderboard/nonqual_results/2022/32017/index.html\" target=\"_blank\">INDIVIDUAL RESULTS</a>,\n",
       " <a aria-label=\"INDIVIDUAL RESULTS for Collegiate Skating vs Pacific Coast: University of Denver on November 5, 2022 at \" href=\"https://ijs.usfigureskating.org/leaderboard/nonqual_results/2022/32007/index.html\">INDIVIDUAL RESULTS</a>,\n",
       " <a aria-label=\"INDIVIDUAL RESULTS for Collegiate Skating vs Pacific Coast: University of Denver on November 5, 2022 at \" href=\"https://ijs.usfigureskating.org/leaderboard/nonqual_results/2022/32007/index.html\" target=\"_blank\">INDIVIDUAL RESULTS</a>,\n",
       " <a aria-label=\"INDIVIDUAL RESULTS for Collegiate Skating vs Southeast: University of South Florida on November 19, 2022 at \" href=\"https://usfigureskatingfanzone.com/documents/2022/11/22/Sunshine_Classic_2022_Individual_Results.pdf\">INDIVIDUAL RESULTS</a>,\n",
       " <a aria-label=\"INDIVIDUAL RESULTS for Collegiate Skating vs Southeast: University of South Florida on November 19, 2022 at \" href=\"https://usfigureskatingfanzone.com/documents/2022/11/22/Sunshine_Classic_2022_Individual_Results.pdf\" target=\"_blank\">INDIVIDUAL RESULTS</a>]"
      ]
     },
     "execution_count": 19,
     "metadata": {},
     "output_type": "execute_result"
    }
   ],
   "source": [
    "\n",
    "soup.find_all(\"a\", attrs = {\"aria-label\": is_results})"
   ]
  }
 ],
 "metadata": {
  "kernelspec": {
   "display_name": "Python 3 (ipykernel)",
   "language": "python",
   "name": "python3"
  },
  "language_info": {
   "codemirror_mode": {
    "name": "ipython",
    "version": 3
   },
   "file_extension": ".py",
   "mimetype": "text/x-python",
   "name": "python",
   "nbconvert_exporter": "python",
   "pygments_lexer": "ipython3",
   "version": "3.9.7"
  }
 },
 "nbformat": 4,
 "nbformat_minor": 5
}
