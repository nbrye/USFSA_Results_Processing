{
 "cells": [
  {
   "cell_type": "markdown",
   "id": "3b0770dd",
   "metadata": {},
   "source": [
    "## USFSA Results Scraping"
   ]
  },
  {
   "cell_type": "markdown",
   "id": "d9ff4254",
   "metadata": {},
   "source": [
    "### Part 1: Scraping the Webpages"
   ]
  },
  {
   "cell_type": "markdown",
   "id": "a7fc1843",
   "metadata": {},
   "source": [
    "#### Imports"
   ]
  },
  {
   "cell_type": "code",
   "execution_count": 64,
   "id": "559e25cf",
   "metadata": {},
   "outputs": [],
   "source": [
    "import pandas as pd\n",
    "import requests\n",
    "import bs4\n",
    "from collections import defaultdict\n",
    "import re"
   ]
  },
  {
   "cell_type": "markdown",
   "id": "2b78d678",
   "metadata": {},
   "source": [
    "#### Create a get request for the main URL"
   ]
  },
  {
   "cell_type": "code",
   "execution_count": 66,
   "id": "483a339c",
   "metadata": {},
   "outputs": [],
   "source": [
    "urls = {'2023-nationals': \n",
    "        'https://ijs.usfigureskating.org/leaderboard/nonqual_results/2023/32002/index.html',\n",
    "        \n",
    "        '2023-ride-the-tide': \n",
    "        'https://ijs.usfigureskating.org/leaderboard/nonqual_results/2022/32006/index.html',\n",
    "        \n",
    "        '2023-golden-bear-skate':\n",
    "        'https://ijs.usfigureskating.org/leaderboard/nonqual_results/2022/32004/index.html',\n",
    "        \n",
    "        '2022-pioneer-open':\n",
    "        'https://ijs.usfigureskating.org/leaderboard/nonqual_results/2022/32007/index.html',\n",
    "        \n",
    "        '2023-horsetooth-open':\n",
    "        'https://ijs.usfigureskating.org/leaderboard/nonqual_results/2023/33813/index.html',\n",
    "        \n",
    "        '2023-violet-classic':\n",
    "        'https://ijs.usfigureskating.org/leaderboard/nonqual_results/2023/33799/index.html',\n",
    "        \n",
    "        '2024-DU-Open':\n",
    "        'https://ijs.usfigureskating.org/leaderboard/nonqual_results/2024/33771/index.html',\n",
    "        \n",
    "        '2024-new-england-classic':\n",
    "        'https://ijs.usfigureskating.org/leaderboard/nonqual_results/2024/33831/index.html',\n",
    "        \n",
    "        '2024-city-of-angels':\n",
    "        'https://ijs.usfigureskating.org/leaderboard/nonqual_results/2024/33785/index.html'\n",
    "       }"
   ]
  },
  {
   "cell_type": "code",
   "execution_count": 67,
   "id": "8d6063f1",
   "metadata": {},
   "outputs": [],
   "source": [
    "# Replacement dictionaries; sometimes the university names in the results are not\n",
    "# consistent!\n",
    "\n",
    "# Pacific Coast\n",
    "pc_rep = {\n",
    "    'Ang...$': 'Angeles', \n",
    "    'Colorad...$': 'Colorado Springs',\n",
    "    'Santa B...$': 'Santa Barbara',\n",
    "    'Norther...$': 'Northern Colorado',\n",
    "    'Lo...$': 'Los Angeles',\n",
    "    'Sa...$': 'San Diego',\n",
    "    'Souther...$': 'Southern CA'\n",
    "}"
   ]
  },
  {
   "cell_type": "code",
   "execution_count": 108,
   "id": "62c07e6f",
   "metadata": {},
   "outputs": [],
   "source": [
    "# Change url to the competition of choice from the above dictionary\n",
    "main_url = urls['2024-DU-Open']\n",
    "request  = requests.get(main_url)"
   ]
  },
  {
   "cell_type": "code",
   "execution_count": 109,
   "id": "27aef8c6",
   "metadata": {},
   "outputs": [],
   "source": [
    "# Global Variables\n",
    "soup   = bs4.BeautifulSoup(request.text)\n",
    "events = soup.find_all(\"td\", attrs = {\"rowspan\": 1})\n",
    "links  = soup.find_all(\"td\", attrs = {\"class\": \"cm rb\"})"
   ]
  },
  {
   "cell_type": "code",
   "execution_count": 110,
   "id": "d0689546",
   "metadata": {},
   "outputs": [],
   "source": [
    "baseurl = main_url.replace(\"index.html\", \"\")\n",
    "\n",
    "# Helper function to extract links\n",
    "def extract_link(x):\n",
    "    return x.find(\"a\")[\"href\"]\n",
    "\n",
    "# Extract the url ends for each webpage\n",
    "ends = list(map(extract_link, links))\n",
    "\n",
    "# Request urls for each webpage\n",
    "webpages = [baseurl + i for i in ends]\n",
    "    "
   ]
  },
  {
   "cell_type": "markdown",
   "id": "2f070b9a",
   "metadata": {},
   "source": [
    "#### Function for processing one results page"
   ]
  },
  {
   "cell_type": "code",
   "execution_count": 111,
   "id": "fc138aae",
   "metadata": {},
   "outputs": [],
   "source": [
    "# Function to parse each results page\n",
    "def parse_results(html, team = False):\n",
    "    \n",
    "    '''\n",
    "    Takes an html text object containing the results of\n",
    "    one group\n",
    "    \n",
    "    :params html: html text\n",
    "    :returns: A DataFrame containing the place and university\n",
    "    for each start\n",
    "    '''\n",
    "    \n",
    "    # Create a soup object and extract the rows of the results table\n",
    "    soup = bs4.BeautifulSoup(html.text)\n",
    "    res  = soup.find_all(\"td\", attrs = {\"colspan\":1})\n",
    "    rows = soup.find_all(\"tr\")\n",
    "    \n",
    "    # Events that haven't happened yet\n",
    "    rem = [x for x in rows if (len(x.find_all(\"td\")) == 2)]\n",
    "    \n",
    "    ccounts = []\n",
    "    if rem:\n",
    "        for i, x in enumerate(rem):\n",
    "            if team:\n",
    "                uni = x.text\n",
    "            else:\n",
    "                uni = re.findall('[A-z\\-\\.\\s]*$', x.text.split(', ')[-1])[0]\n",
    "            ccounts.append(uni)\n",
    "        return ccounts\n",
    "    \n",
    "    # Events where results are live\n",
    "    else:\n",
    "        temp = [x for x in rows if (len(x.find_all(\"td\")) == 9 or len(x.find_all(\"td\")) == 7) or \n",
    "                len(x.find_all(\"td\")) == 7]\n",
    "        #temp = [x for x in rows if (len(x.find_all(\"td\")) == 9 or len(x.find_all(\"td\")) == 7)]\n",
    "\n",
    "        # Extract the University names from each page\n",
    "        out  = []\n",
    "        for i, x in enumerate(res):\n",
    "            if team:\n",
    "                uni = x.text\n",
    "            else:\n",
    "                uni = x.text.split(\", \")[-1]\n",
    "            out.append([temp[i].find(\"td\").text, uni, temp[i].find_all(\"td\")[-1].text])\n",
    "        \n",
    "        return pd.DataFrame(out, columns = [\"Place\", \"College\", \"Tie\"])"
   ]
  },
  {
   "cell_type": "markdown",
   "id": "e481b1af",
   "metadata": {},
   "source": [
    "#### Loop through each page and extract the data"
   ]
  },
  {
   "cell_type": "code",
   "execution_count": 112,
   "id": "d6e35a8a",
   "metadata": {},
   "outputs": [],
   "source": [
    "DFS = []\n",
    "CCOUNTS = []\n",
    "for i, x in enumerate(webpages):    \n",
    "    temp = requests.get(x)\n",
    "    try:   \n",
    "        data = parse_results(temp)\n",
    "        \n",
    "        if type(data) == list:\n",
    "            CCOUNTS += data\n",
    "        \n",
    "        else:\n",
    "            data = data.loc[~data[\"Tie\"].str.contains(\"Withdraw\")]\n",
    "            DFS.append(data)\n",
    "    except:\n",
    "        pass   "
   ]
  },
  {
   "cell_type": "markdown",
   "id": "37c5d3e6",
   "metadata": {},
   "source": [
    "### Part 2: Calculating the points awarded for each event"
   ]
  },
  {
   "cell_type": "code",
   "execution_count": 113,
   "id": "3f4d8eb9",
   "metadata": {},
   "outputs": [],
   "source": [
    "lookup = {24: [12, 11, 10, 9, 8, 7, 6, 5, 4, 3, 2, 1, 1, 1, 1, 1, 1, 1, 1, 1, 1, 1, 1, 1],\n",
    "          23: [12, 11, 10, 9, 8, 7, 6, 5, 4, 3, 2, 1, 1, 1, 1, 1, 1, 1, 1, 1, 1, 1, 1],\n",
    "          22: [12, 11, 10, 9, 8, 7, 6, 5, 4, 3, 2, 1, 1, 1, 1, 1, 1, 1, 1, 1, 1, 1],\n",
    "          21: [12, 11, 10, 9, 8, 7, 6, 5, 4, 3, 2, 1, 1, 1, 1, 1, 1, 1, 1, 1, 1],\n",
    "          20: [12, 11, 10, 9, 8, 7, 6, 5, 4, 3, 2, 1, 1, 1, 1, 1, 1, 1, 1, 1],\n",
    "          19: [12, 11, 10, 9, 8, 7, 6, 5, 4, 3, 2, 1, 1, 1, 1, 1, 1, 1, 1],\n",
    "          18: [12, 11, 10, 9, 8, 7, 6, 5, 4, 3, 2, 1, 1, 1, 1, 1, 1, 1],\n",
    "          17: [12, 11, 10, 9, 8, 7, 6, 5, 4, 3, 2, 1, 1, 1, 1, 1, 1],\n",
    "          16: [12, 11, 10, 9, 8, 7, 6, 5, 4, 3, 2, 1, 1, 1, 1, 1],\n",
    "          15: [12, 11, 10, 9, 8, 7, 6, 5, 4, 3, 2, 1, 1, 1, 1],\n",
    "          14: [12, 11, 10, 9, 8, 7, 6, 5, 4, 3, 2, 1, 1, 1],\n",
    "          13: [12, 11, 10, 9, 8, 7, 6, 5, 4, 3, 2, 1, 1],\n",
    "          12: [12, 11, 10, 9, 8, 7, 6, 5, 4, 3, 2, 1],\n",
    "          11: [12, 10, 9, 8, 7, 6, 5, 4, 3, 2, 1],\n",
    "          10: [12, 10, 8, 7, 6, 5, 4, 3, 2, 1],\n",
    "          9: [12, 10, 8, 6, 5, 4, 3, 2, 1],\n",
    "          8: [12, 10, 8, 6, 4, 3, 2, 1],\n",
    "          7: [12, 10, 8, 6, 4, 2, 1],\n",
    "          6: [12, 10, 8, 6, 4, 2],\n",
    "          5: [10, 8, 6, 4, 2],\n",
    "          4: [8, 6, 4, 2],\n",
    "          3: [6, 4, 2],\n",
    "          2: [6, 4],\n",
    "          1: [6]\n",
    "         }"
   ]
  },
  {
   "cell_type": "code",
   "execution_count": 114,
   "id": "f05d2c07",
   "metadata": {},
   "outputs": [],
   "source": [
    "OUT = []\n",
    "for i, x in enumerate(DFS):\n",
    "    num = len(x)\n",
    "    \n",
    "    # Assign a number of points to each column\n",
    "    x = x.assign(points = lookup[num])\n",
    "\n",
    "    # Handle ties\n",
    "    temp = x.groupby(\"Place\")[\"points\"].transform(lambda x: x.mean())\n",
    "    x = x.assign(points = temp)\n",
    "    \n",
    "    # Handle championship event edge case\n",
    "    if \"Championship\" in events[i].text or \"International\" in events[i].text:\n",
    "        x[\"points\"] = x[\"points\"] + 2\n",
    "    \n",
    "    OUT.append(x)"
   ]
  },
  {
   "cell_type": "code",
   "execution_count": 115,
   "id": "d2154eb8",
   "metadata": {},
   "outputs": [],
   "source": [
    "try:\n",
    "    FULL = pd.concat(OUT)\n",
    "\n",
    "    # Eliminate the error where it says 'U' instead of 'University'\n",
    "    # Keep in mind there are still a few errors with the names of the colleges\n",
    "    # that I have not fixed yet\n",
    "    import re\n",
    "    FULL['College'] = FULL['College'].apply(lambda x: re.sub('^U ', 'University ', x))\n",
    "    FULL['College'] = FULL['College'].apply(lambda x: re.sub(' U$', ' University', x))\n",
    "except:\n",
    "    print('Competition has not started yet!')"
   ]
  },
  {
   "cell_type": "markdown",
   "id": "d690beb1",
   "metadata": {},
   "source": [
    "#### Team Standings"
   ]
  },
  {
   "cell_type": "code",
   "execution_count": 116,
   "id": "e241490e",
   "metadata": {
    "scrolled": false
   },
   "outputs": [
    {
     "data": {
      "text/plain": [
       "College\n",
       "Univ of Denver              255.0\n",
       "Univ of Calif Los Ang...    226.0\n",
       "Univ of Calif San Diego     203.0\n",
       "Univ of Calif Berkeley      200.0\n",
       "Univ of Colo Boulder        199.0\n",
       "Stanford Univ               182.0\n",
       "Univ of Washington          181.0\n",
       "Arizona State Univ          135.0\n",
       "Colo State Univ             128.0\n",
       "Utah State Univ             126.0\n",
       "Univ of Colo Colo Spr...    113.0\n",
       "Univ of Southern Calif      108.0\n",
       "Univ of Calif Davis          34.0\n",
       "Univ of Calif Santa B...     22.0\n",
       "Colo College                 19.0\n",
       "Western Washington Univ      14.0\n",
       "Name: points, dtype: float64"
      ]
     },
     "execution_count": 116,
     "metadata": {},
     "output_type": "execute_result"
    }
   ],
   "source": [
    "A = FULL.groupby(\"College\")[\"points\"].sum().sort_values(ascending = False)\n",
    "A"
   ]
  },
  {
   "cell_type": "markdown",
   "id": "b28a15c7",
   "metadata": {},
   "source": [
    "#### Number of Starts per Team"
   ]
  },
  {
   "cell_type": "code",
   "execution_count": 117,
   "id": "20873d16",
   "metadata": {},
   "outputs": [
    {
     "data": {
      "text/plain": [
       "College\n",
       "Univ of Calif Los Ang...    30\n",
       "Univ of Denver              30\n",
       "Colo State Univ             29\n",
       "Stanford Univ               29\n",
       "Univ of Calif San Diego     29\n",
       "Univ of Colo Boulder        29\n",
       "Univ of Washington          29\n",
       "Arizona State Univ          28\n",
       "Univ of Calif Berkeley      28\n",
       "Univ of Southern Calif      24\n",
       "Univ of Colo Colo Spr...    19\n",
       "Utah State Univ             19\n",
       "Univ of Calif Davis          8\n",
       "Colo College                 7\n",
       "Univ of Calif Santa B...     5\n",
       "Western Washington Univ      4\n",
       "Name: Place, dtype: int64"
      ]
     },
     "execution_count": 117,
     "metadata": {},
     "output_type": "execute_result"
    }
   ],
   "source": [
    "B = FULL.groupby(\"College\").count()[\"Place\"].sort_values(ascending=False)\n",
    "B"
   ]
  },
  {
   "cell_type": "markdown",
   "id": "31924819",
   "metadata": {},
   "source": [
    "#### Points per start ratio"
   ]
  },
  {
   "cell_type": "code",
   "execution_count": 118,
   "id": "a871ca67",
   "metadata": {
    "scrolled": true
   },
   "outputs": [
    {
     "data": {
      "text/html": [
       "<div>\n",
       "<style scoped>\n",
       "    .dataframe tbody tr th:only-of-type {\n",
       "        vertical-align: middle;\n",
       "    }\n",
       "\n",
       "    .dataframe tbody tr th {\n",
       "        vertical-align: top;\n",
       "    }\n",
       "\n",
       "    .dataframe thead th {\n",
       "        text-align: right;\n",
       "    }\n",
       "</style>\n",
       "<table border=\"1\" class=\"dataframe\">\n",
       "  <thead>\n",
       "    <tr style=\"text-align: right;\">\n",
       "      <th></th>\n",
       "      <th>Points</th>\n",
       "      <th>Number of Starts</th>\n",
       "      <th>Ratio</th>\n",
       "    </tr>\n",
       "    <tr>\n",
       "      <th>College</th>\n",
       "      <th></th>\n",
       "      <th></th>\n",
       "      <th></th>\n",
       "    </tr>\n",
       "  </thead>\n",
       "  <tbody>\n",
       "    <tr>\n",
       "      <th>Univ of Denver</th>\n",
       "      <td>255.0</td>\n",
       "      <td>30</td>\n",
       "      <td>8.500000</td>\n",
       "    </tr>\n",
       "    <tr>\n",
       "      <th>Univ of Calif Los Ang...</th>\n",
       "      <td>226.0</td>\n",
       "      <td>30</td>\n",
       "      <td>7.533333</td>\n",
       "    </tr>\n",
       "    <tr>\n",
       "      <th>Univ of Calif Berkeley</th>\n",
       "      <td>200.0</td>\n",
       "      <td>28</td>\n",
       "      <td>7.142857</td>\n",
       "    </tr>\n",
       "    <tr>\n",
       "      <th>Univ of Calif San Diego</th>\n",
       "      <td>203.0</td>\n",
       "      <td>29</td>\n",
       "      <td>7.000000</td>\n",
       "    </tr>\n",
       "    <tr>\n",
       "      <th>Univ of Colo Boulder</th>\n",
       "      <td>199.0</td>\n",
       "      <td>29</td>\n",
       "      <td>6.862069</td>\n",
       "    </tr>\n",
       "    <tr>\n",
       "      <th>Utah State Univ</th>\n",
       "      <td>126.0</td>\n",
       "      <td>19</td>\n",
       "      <td>6.631579</td>\n",
       "    </tr>\n",
       "    <tr>\n",
       "      <th>Stanford Univ</th>\n",
       "      <td>182.0</td>\n",
       "      <td>29</td>\n",
       "      <td>6.275862</td>\n",
       "    </tr>\n",
       "    <tr>\n",
       "      <th>Univ of Washington</th>\n",
       "      <td>181.0</td>\n",
       "      <td>29</td>\n",
       "      <td>6.241379</td>\n",
       "    </tr>\n",
       "    <tr>\n",
       "      <th>Univ of Colo Colo Spr...</th>\n",
       "      <td>113.0</td>\n",
       "      <td>19</td>\n",
       "      <td>5.947368</td>\n",
       "    </tr>\n",
       "    <tr>\n",
       "      <th>Arizona State Univ</th>\n",
       "      <td>135.0</td>\n",
       "      <td>28</td>\n",
       "      <td>4.821429</td>\n",
       "    </tr>\n",
       "    <tr>\n",
       "      <th>Univ of Southern Calif</th>\n",
       "      <td>108.0</td>\n",
       "      <td>24</td>\n",
       "      <td>4.500000</td>\n",
       "    </tr>\n",
       "    <tr>\n",
       "      <th>Colo State Univ</th>\n",
       "      <td>128.0</td>\n",
       "      <td>29</td>\n",
       "      <td>4.413793</td>\n",
       "    </tr>\n",
       "    <tr>\n",
       "      <th>Univ of Calif Santa B...</th>\n",
       "      <td>22.0</td>\n",
       "      <td>5</td>\n",
       "      <td>4.400000</td>\n",
       "    </tr>\n",
       "    <tr>\n",
       "      <th>Univ of Calif Davis</th>\n",
       "      <td>34.0</td>\n",
       "      <td>8</td>\n",
       "      <td>4.250000</td>\n",
       "    </tr>\n",
       "    <tr>\n",
       "      <th>Western Washington Univ</th>\n",
       "      <td>14.0</td>\n",
       "      <td>4</td>\n",
       "      <td>3.500000</td>\n",
       "    </tr>\n",
       "    <tr>\n",
       "      <th>Colo College</th>\n",
       "      <td>19.0</td>\n",
       "      <td>7</td>\n",
       "      <td>2.714286</td>\n",
       "    </tr>\n",
       "  </tbody>\n",
       "</table>\n",
       "</div>"
      ],
      "text/plain": [
       "                          Points  Number of Starts     Ratio\n",
       "College                                                     \n",
       "Univ of Denver             255.0                30  8.500000\n",
       "Univ of Calif Los Ang...   226.0                30  7.533333\n",
       "Univ of Calif Berkeley     200.0                28  7.142857\n",
       "Univ of Calif San Diego    203.0                29  7.000000\n",
       "Univ of Colo Boulder       199.0                29  6.862069\n",
       "Utah State Univ            126.0                19  6.631579\n",
       "Stanford Univ              182.0                29  6.275862\n",
       "Univ of Washington         181.0                29  6.241379\n",
       "Univ of Colo Colo Spr...   113.0                19  5.947368\n",
       "Arizona State Univ         135.0                28  4.821429\n",
       "Univ of Southern Calif     108.0                24  4.500000\n",
       "Colo State Univ            128.0                29  4.413793\n",
       "Univ of Calif Santa B...    22.0                 5  4.400000\n",
       "Univ of Calif Davis         34.0                 8  4.250000\n",
       "Western Washington Univ     14.0                 4  3.500000\n",
       "Colo College                19.0                 7  2.714286"
      ]
     },
     "execution_count": 118,
     "metadata": {},
     "output_type": "execute_result"
    }
   ],
   "source": [
    "C = pd.merge(A.to_frame(), B.to_frame(), left_index=True, right_index=True)\n",
    "C.columns = [\"Points\", \"Number of Starts\"]\n",
    "\n",
    "C[\"Ratio\"] = C[\"Points\"] / C[\"Number of Starts\"]\n",
    "C.sort_values(by=\"Ratio\", ascending = False)"
   ]
  },
  {
   "cell_type": "markdown",
   "id": "8d8d2320",
   "metadata": {},
   "source": [
    "#### Starts Remaining"
   ]
  },
  {
   "cell_type": "code",
   "execution_count": 119,
   "id": "901a0d6a",
   "metadata": {},
   "outputs": [
    {
     "data": {
      "text/plain": [
       "0"
      ]
     },
     "execution_count": 119,
     "metadata": {},
     "output_type": "execute_result"
    }
   ],
   "source": [
    "REM = pd.Series(CCOUNTS).replace(pc_rep, regex=True)\n",
    "REM = REM.str.replace('Univ.', 'University')\n",
    "REM = REM.value_counts()\n",
    "REM.sum()"
   ]
  },
  {
   "cell_type": "code",
   "execution_count": 120,
   "id": "1f76a3bb",
   "metadata": {},
   "outputs": [
    {
     "data": {
      "text/html": [
       "<div>\n",
       "<style scoped>\n",
       "    .dataframe tbody tr th:only-of-type {\n",
       "        vertical-align: middle;\n",
       "    }\n",
       "\n",
       "    .dataframe tbody tr th {\n",
       "        vertical-align: top;\n",
       "    }\n",
       "\n",
       "    .dataframe thead th {\n",
       "        text-align: right;\n",
       "    }\n",
       "</style>\n",
       "<table border=\"1\" class=\"dataframe\">\n",
       "  <thead>\n",
       "    <tr style=\"text-align: right;\">\n",
       "      <th></th>\n",
       "      <th>Points</th>\n",
       "      <th>Number of Starts</th>\n",
       "      <th>Ratio</th>\n",
       "      <th>Starts Remaining</th>\n",
       "      <th>Predicted Points</th>\n",
       "    </tr>\n",
       "    <tr>\n",
       "      <th>College</th>\n",
       "      <th></th>\n",
       "      <th></th>\n",
       "      <th></th>\n",
       "      <th></th>\n",
       "      <th></th>\n",
       "    </tr>\n",
       "  </thead>\n",
       "  <tbody>\n",
       "    <tr>\n",
       "      <th>Univ of Denver</th>\n",
       "      <td>255.0</td>\n",
       "      <td>30</td>\n",
       "      <td>8.500000</td>\n",
       "      <td>NaN</td>\n",
       "      <td>NaN</td>\n",
       "    </tr>\n",
       "    <tr>\n",
       "      <th>Univ of Calif Los Ang...</th>\n",
       "      <td>226.0</td>\n",
       "      <td>30</td>\n",
       "      <td>7.533333</td>\n",
       "      <td>NaN</td>\n",
       "      <td>NaN</td>\n",
       "    </tr>\n",
       "    <tr>\n",
       "      <th>Univ of Calif San Diego</th>\n",
       "      <td>203.0</td>\n",
       "      <td>29</td>\n",
       "      <td>7.000000</td>\n",
       "      <td>NaN</td>\n",
       "      <td>NaN</td>\n",
       "    </tr>\n",
       "    <tr>\n",
       "      <th>Univ of Calif Berkeley</th>\n",
       "      <td>200.0</td>\n",
       "      <td>28</td>\n",
       "      <td>7.142857</td>\n",
       "      <td>NaN</td>\n",
       "      <td>NaN</td>\n",
       "    </tr>\n",
       "    <tr>\n",
       "      <th>Univ of Colo Boulder</th>\n",
       "      <td>199.0</td>\n",
       "      <td>29</td>\n",
       "      <td>6.862069</td>\n",
       "      <td>NaN</td>\n",
       "      <td>NaN</td>\n",
       "    </tr>\n",
       "    <tr>\n",
       "      <th>Stanford Univ</th>\n",
       "      <td>182.0</td>\n",
       "      <td>29</td>\n",
       "      <td>6.275862</td>\n",
       "      <td>NaN</td>\n",
       "      <td>NaN</td>\n",
       "    </tr>\n",
       "    <tr>\n",
       "      <th>Univ of Washington</th>\n",
       "      <td>181.0</td>\n",
       "      <td>29</td>\n",
       "      <td>6.241379</td>\n",
       "      <td>NaN</td>\n",
       "      <td>NaN</td>\n",
       "    </tr>\n",
       "    <tr>\n",
       "      <th>Arizona State Univ</th>\n",
       "      <td>135.0</td>\n",
       "      <td>28</td>\n",
       "      <td>4.821429</td>\n",
       "      <td>NaN</td>\n",
       "      <td>NaN</td>\n",
       "    </tr>\n",
       "    <tr>\n",
       "      <th>Colo State Univ</th>\n",
       "      <td>128.0</td>\n",
       "      <td>29</td>\n",
       "      <td>4.413793</td>\n",
       "      <td>NaN</td>\n",
       "      <td>NaN</td>\n",
       "    </tr>\n",
       "    <tr>\n",
       "      <th>Utah State Univ</th>\n",
       "      <td>126.0</td>\n",
       "      <td>19</td>\n",
       "      <td>6.631579</td>\n",
       "      <td>NaN</td>\n",
       "      <td>NaN</td>\n",
       "    </tr>\n",
       "    <tr>\n",
       "      <th>Univ of Colo Colo Spr...</th>\n",
       "      <td>113.0</td>\n",
       "      <td>19</td>\n",
       "      <td>5.947368</td>\n",
       "      <td>NaN</td>\n",
       "      <td>NaN</td>\n",
       "    </tr>\n",
       "    <tr>\n",
       "      <th>Univ of Southern Calif</th>\n",
       "      <td>108.0</td>\n",
       "      <td>24</td>\n",
       "      <td>4.500000</td>\n",
       "      <td>NaN</td>\n",
       "      <td>NaN</td>\n",
       "    </tr>\n",
       "    <tr>\n",
       "      <th>Univ of Calif Davis</th>\n",
       "      <td>34.0</td>\n",
       "      <td>8</td>\n",
       "      <td>4.250000</td>\n",
       "      <td>NaN</td>\n",
       "      <td>NaN</td>\n",
       "    </tr>\n",
       "    <tr>\n",
       "      <th>Univ of Calif Santa B...</th>\n",
       "      <td>22.0</td>\n",
       "      <td>5</td>\n",
       "      <td>4.400000</td>\n",
       "      <td>NaN</td>\n",
       "      <td>NaN</td>\n",
       "    </tr>\n",
       "    <tr>\n",
       "      <th>Colo College</th>\n",
       "      <td>19.0</td>\n",
       "      <td>7</td>\n",
       "      <td>2.714286</td>\n",
       "      <td>NaN</td>\n",
       "      <td>NaN</td>\n",
       "    </tr>\n",
       "    <tr>\n",
       "      <th>Western Washington Univ</th>\n",
       "      <td>14.0</td>\n",
       "      <td>4</td>\n",
       "      <td>3.500000</td>\n",
       "      <td>NaN</td>\n",
       "      <td>NaN</td>\n",
       "    </tr>\n",
       "  </tbody>\n",
       "</table>\n",
       "</div>"
      ],
      "text/plain": [
       "                          Points  Number of Starts     Ratio  \\\n",
       "College                                                        \n",
       "Univ of Denver             255.0                30  8.500000   \n",
       "Univ of Calif Los Ang...   226.0                30  7.533333   \n",
       "Univ of Calif San Diego    203.0                29  7.000000   \n",
       "Univ of Calif Berkeley     200.0                28  7.142857   \n",
       "Univ of Colo Boulder       199.0                29  6.862069   \n",
       "Stanford Univ              182.0                29  6.275862   \n",
       "Univ of Washington         181.0                29  6.241379   \n",
       "Arizona State Univ         135.0                28  4.821429   \n",
       "Colo State Univ            128.0                29  4.413793   \n",
       "Utah State Univ            126.0                19  6.631579   \n",
       "Univ of Colo Colo Spr...   113.0                19  5.947368   \n",
       "Univ of Southern Calif     108.0                24  4.500000   \n",
       "Univ of Calif Davis         34.0                 8  4.250000   \n",
       "Univ of Calif Santa B...    22.0                 5  4.400000   \n",
       "Colo College                19.0                 7  2.714286   \n",
       "Western Washington Univ     14.0                 4  3.500000   \n",
       "\n",
       "                          Starts Remaining  Predicted Points  \n",
       "College                                                       \n",
       "Univ of Denver                         NaN               NaN  \n",
       "Univ of Calif Los Ang...               NaN               NaN  \n",
       "Univ of Calif San Diego                NaN               NaN  \n",
       "Univ of Calif Berkeley                 NaN               NaN  \n",
       "Univ of Colo Boulder                   NaN               NaN  \n",
       "Stanford Univ                          NaN               NaN  \n",
       "Univ of Washington                     NaN               NaN  \n",
       "Arizona State Univ                     NaN               NaN  \n",
       "Colo State Univ                        NaN               NaN  \n",
       "Utah State Univ                        NaN               NaN  \n",
       "Univ of Colo Colo Spr...               NaN               NaN  \n",
       "Univ of Southern Calif                 NaN               NaN  \n",
       "Univ of Calif Davis                    NaN               NaN  \n",
       "Univ of Calif Santa B...               NaN               NaN  \n",
       "Colo College                           NaN               NaN  \n",
       "Western Washington Univ                NaN               NaN  "
      ]
     },
     "execution_count": 120,
     "metadata": {},
     "output_type": "execute_result"
    }
   ],
   "source": [
    "D = pd.merge(C, REM, how='left', left_index=True, right_index=True)\n",
    "D.columns = list(D.columns[:-1]) + ['Starts Remaining']\n",
    "D['Predicted Points'] = D['Starts Remaining'] * D['Ratio'] + D['Points']\n",
    "D.sort_values(by=\"Predicted Points\", ascending = False)"
   ]
  },
  {
   "cell_type": "markdown",
   "id": "523e7960",
   "metadata": {},
   "source": [
    "#### Total Number of Starts"
   ]
  },
  {
   "cell_type": "code",
   "execution_count": 121,
   "id": "efcd404b",
   "metadata": {},
   "outputs": [
    {
     "data": {
      "text/plain": [
       "347"
      ]
     },
     "execution_count": 121,
     "metadata": {},
     "output_type": "execute_result"
    }
   ],
   "source": [
    "C[\"Number of Starts\"].sum()"
   ]
  },
  {
   "cell_type": "markdown",
   "id": "c3976fbe",
   "metadata": {},
   "source": [
    "#### To get a general count of how many of each type of official each competition has"
   ]
  },
  {
   "cell_type": "code",
   "execution_count": 122,
   "id": "e1ef52a6",
   "metadata": {},
   "outputs": [],
   "source": [
    "import numpy as np"
   ]
  },
  {
   "cell_type": "code",
   "execution_count": 123,
   "id": "b085c8e3",
   "metadata": {},
   "outputs": [],
   "source": [
    "DFS = []\n",
    "for i, x in enumerate(webpages):\n",
    "    temp = requests.get(x)\n",
    "    "
   ]
  },
  {
   "cell_type": "code",
   "execution_count": 124,
   "id": "538995f0",
   "metadata": {},
   "outputs": [],
   "source": [
    "def process_judges(text):\n",
    "    soup = bs4.BeautifulSoup(text)\n",
    "    tabs = np.array(list(map(lambda x: x.text, soup.find_all('td'))))\n",
    "    offs = tabs[np.where(tabs == 'Judge 1')[0][0]:][1::3][:-1]\n",
    "    return list(offs)"
   ]
  },
  {
   "cell_type": "code",
   "execution_count": 125,
   "id": "667ab9aa",
   "metadata": {},
   "outputs": [],
   "source": [
    "def process_referees(text):\n",
    "    soup = bs4.BeautifulSoup(text)\n",
    "    tabs = tabs = np.array(list(map(lambda x: x.text, soup.find_all('td'))))\n",
    "    refs = tabs[np.where(tabs == 'Referee')[0][0] + 1]\n",
    "    return [refs]"
   ]
  },
  {
   "cell_type": "code",
   "execution_count": 126,
   "id": "2a220fe4",
   "metadata": {},
   "outputs": [],
   "source": [
    "def process_accountants(text):\n",
    "    soup = bs4.BeautifulSoup(text)\n",
    "    tabs = tabs = np.array(list(map(lambda x: x.text, soup.find_all('td'))))\n",
    "    accs = tabs[np.where(tabs == 'Accountant')[0][0] + 1]\n",
    "    return [accs]"
   ]
  },
  {
   "cell_type": "code",
   "execution_count": 127,
   "id": "f4cd895c",
   "metadata": {},
   "outputs": [],
   "source": [
    "JUDGES = []\n",
    "for i, x in enumerate(webpages):\n",
    "    temp = requests.get(x)\n",
    "    jlst = process_judges(temp.text)\n",
    "    JUDGES += jlst"
   ]
  },
  {
   "cell_type": "code",
   "execution_count": 128,
   "id": "0fbb74e3",
   "metadata": {},
   "outputs": [],
   "source": [
    "REFEREES = []\n",
    "for i, x in enumerate(webpages):\n",
    "    temp = requests.get(x)\n",
    "    rlst = process_referees(temp.text)\n",
    "    REFEREES += rlst"
   ]
  },
  {
   "cell_type": "code",
   "execution_count": null,
   "id": "03300551",
   "metadata": {},
   "outputs": [],
   "source": [
    "ACCOUNTANTS = []\n",
    "for i, x in enumerate(webpages):\n",
    "    temp = requests.get(x)\n",
    "    alst = process_accountants(temp.text)\n",
    "    ACCOUNTANTS += alst"
   ]
  },
  {
   "cell_type": "code",
   "execution_count": null,
   "id": "2139e4b2",
   "metadata": {},
   "outputs": [],
   "source": [
    "pd.Series(JUDGES).unique()"
   ]
  },
  {
   "cell_type": "code",
   "execution_count": null,
   "id": "7b3ffca6",
   "metadata": {},
   "outputs": [],
   "source": [
    "pd.Series(REFEREES).unique()"
   ]
  },
  {
   "cell_type": "code",
   "execution_count": null,
   "id": "3c63f315",
   "metadata": {},
   "outputs": [],
   "source": [
    "pd.Series(ACCOUNTANTS).unique()"
   ]
  }
 ],
 "metadata": {
  "kernelspec": {
   "display_name": "Python 3 (ipykernel)",
   "language": "python",
   "name": "python3"
  },
  "language_info": {
   "codemirror_mode": {
    "name": "ipython",
    "version": 3
   },
   "file_extension": ".py",
   "mimetype": "text/x-python",
   "name": "python",
   "nbconvert_exporter": "python",
   "pygments_lexer": "ipython3",
   "version": "3.9.7"
  }
 },
 "nbformat": 4,
 "nbformat_minor": 5
}
