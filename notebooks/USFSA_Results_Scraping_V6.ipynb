{
 "cells": [
  {
   "cell_type": "markdown",
   "id": "3b0770dd",
   "metadata": {},
   "source": [
    "## USFSA Results Scraping"
   ]
  },
  {
   "cell_type": "markdown",
   "id": "d9ff4254",
   "metadata": {},
   "source": [
    "### Part 1: Scraping the Webpages"
   ]
  },
  {
   "cell_type": "markdown",
   "id": "a7fc1843",
   "metadata": {},
   "source": [
    "#### Imports"
   ]
  },
  {
   "cell_type": "code",
   "execution_count": 1,
   "id": "559e25cf",
   "metadata": {},
   "outputs": [
    {
     "name": "stderr",
     "output_type": "stream",
     "text": [
      "/Users/nicolebrye/opt/anaconda3/lib/python3.9/site-packages/pandas/core/computation/expressions.py:21: UserWarning: Pandas requires version '2.8.4' or newer of 'numexpr' (version '2.7.3' currently installed).\n",
      "  from pandas.core.computation.check import NUMEXPR_INSTALLED\n",
      "/Users/nicolebrye/opt/anaconda3/lib/python3.9/site-packages/pandas/core/arrays/masked.py:60: UserWarning: Pandas requires version '1.3.6' or newer of 'bottleneck' (version '1.3.2' currently installed).\n",
      "  from pandas.core import (\n"
     ]
    }
   ],
   "source": [
    "import pandas as pd\n",
    "import requests\n",
    "import bs4\n",
    "from collections import defaultdict\n",
    "import re"
   ]
  },
  {
   "cell_type": "markdown",
   "id": "2b78d678",
   "metadata": {},
   "source": [
    "#### Create a get request for the main URL"
   ]
  },
  {
   "cell_type": "code",
   "execution_count": 2,
   "id": "483a339c",
   "metadata": {},
   "outputs": [],
   "source": [
    "urls = {'2023-nationals': \n",
    "        'https://ijs.usfigureskating.org/leaderboard/nonqual_results/2023/32002/index.html',\n",
    "        \n",
    "        '2023-ride-the-tide': \n",
    "        'https://ijs.usfigureskating.org/leaderboard/nonqual_results/2022/32006/index.html',\n",
    "        \n",
    "        '2023-golden-bear-skate':\n",
    "        'https://ijs.usfigureskating.org/leaderboard/nonqual_results/2022/32004/index.html',\n",
    "        \n",
    "        '2022-pioneer-open':\n",
    "        'https://ijs.usfigureskating.org/leaderboard/nonqual_results/2022/32007/index.html',\n",
    "        \n",
    "        '2023-horsetooth-open':\n",
    "        'https://ijs.usfigureskating.org/leaderboard/nonqual_results/2023/33813/index.html',\n",
    "        \n",
    "        '2023-violet-classic':\n",
    "        'https://ijs.usfigureskating.org/leaderboard/nonqual_results/2023/33799/index.html',\n",
    "        \n",
    "        '2024-DU-Open':\n",
    "        'https://ijs.usfigureskating.org/leaderboard/nonqual_results/2024/33771/index.html',\n",
    "        \n",
    "        '2024-new-england-classic':\n",
    "        'https://ijs.usfigureskating.org/leaderboard/nonqual_results/2024/33831/index.html',\n",
    "        \n",
    "        '2024-city-of-angels':\n",
    "        'https://ijs.usfigureskating.org/leaderboard/nonqual_results/2024/33785/index.html'\n",
    "       }"
   ]
  },
  {
   "cell_type": "code",
   "execution_count": 3,
   "id": "d65ebffe",
   "metadata": {},
   "outputs": [],
   "source": [
    "# Replacement dictionaries; sometimes the university names in the results are not\n",
    "# consistent!\n",
    "\n",
    "# Pacific Coast\n",
    "pc_rep = {\n",
    "    'Ang...$': 'Angeles', \n",
    "    'Colorad...$': 'Colorado Springs',\n",
    "    'Santa B...$': 'Santa Barbara',\n",
    "    'Norther...$': 'Northern Colorado',\n",
    "    'Lo...$': 'Los Angeles',\n",
    "    'Sa...$': 'San Diego',\n",
    "    'Souther...$': 'Southern CA'\n",
    "}"
   ]
  },
  {
   "cell_type": "code",
   "execution_count": 4,
   "id": "62c07e6f",
   "metadata": {},
   "outputs": [],
   "source": [
    "# Change url to the competition of choice from the above dictionary\n",
    "main_url = urls['2024-city-of-angels']\n",
    "request  = requests.get(main_url)"
   ]
  },
  {
   "cell_type": "code",
   "execution_count": 5,
   "id": "27aef8c6",
   "metadata": {},
   "outputs": [],
   "source": [
    "# Global Variables\n",
    "soup   = bs4.BeautifulSoup(request.text)\n",
    "events = soup.find_all(\"td\", attrs = {\"rowspan\": 1})\n",
    "links  = soup.find_all(\"td\", attrs = {\"class\": \"cm rb\"})"
   ]
  },
  {
   "cell_type": "code",
   "execution_count": 6,
   "id": "d0689546",
   "metadata": {},
   "outputs": [],
   "source": [
    "baseurl = main_url.replace(\"index.html\", \"\")\n",
    "\n",
    "# Helper function to extract links\n",
    "def extract_link(x):\n",
    "    return x.find(\"a\")[\"href\"]\n",
    "\n",
    "# Extract the url ends for each webpage\n",
    "ends = list(map(extract_link, links))\n",
    "\n",
    "# Request urls for each webpage\n",
    "webpages = [baseurl + i for i in ends]\n",
    "    "
   ]
  },
  {
   "cell_type": "markdown",
   "id": "2f070b9a",
   "metadata": {},
   "source": [
    "#### Function for processing one results page"
   ]
  },
  {
   "cell_type": "code",
   "execution_count": 7,
   "id": "fc138aae",
   "metadata": {},
   "outputs": [],
   "source": [
    "# Function to parse each results page\n",
    "def parse_results(html, team = False):\n",
    "    \n",
    "    '''\n",
    "    Takes an html text object containing the results of\n",
    "    one group\n",
    "    \n",
    "    :params html: html text\n",
    "    :returns: A DataFrame containing the place and university\n",
    "    for each start\n",
    "    '''\n",
    "    \n",
    "    # Create a soup object and extract the rows of the results table\n",
    "    soup = bs4.BeautifulSoup(html.text)\n",
    "    res  = soup.find_all(\"td\", attrs = {\"colspan\":1})\n",
    "    rows = soup.find_all(\"tr\")\n",
    "    \n",
    "    # Events that haven't happened yet\n",
    "    rem = [x for x in rows if (len(x.find_all(\"td\")) == 2)]\n",
    "    \n",
    "    ccounts = []\n",
    "    if rem:\n",
    "        for i, x in enumerate(rem):\n",
    "            if team:\n",
    "                uni = x.text\n",
    "            else:\n",
    "                uni = re.findall('[A-z\\-\\.\\s]*$', x.text.split(', ')[-1])[0]\n",
    "            ccounts.append(uni)\n",
    "        return ccounts\n",
    "    \n",
    "    # Events where results are live\n",
    "    else:\n",
    "        temp = [x for x in rows if (len(x.find_all(\"td\")) == 9 or len(x.find_all(\"td\")) == 7) or \n",
    "                len(x.find_all(\"td\")) == 7]\n",
    "        #temp = [x for x in rows if (len(x.find_all(\"td\")) == 9 or len(x.find_all(\"td\")) == 7)]\n",
    "\n",
    "        # Extract the University names from each page\n",
    "        out  = []\n",
    "        for i, x in enumerate(res):\n",
    "            if team:\n",
    "                uni = x.text\n",
    "            else:\n",
    "                uni = x.text.split(\", \")[-1]\n",
    "            out.append([temp[i].find(\"td\").text, uni, temp[i].find_all(\"td\")[-1].text])\n",
    "        \n",
    "        return pd.DataFrame(out, columns = [\"Place\", \"College\", \"Tie\"])"
   ]
  },
  {
   "cell_type": "markdown",
   "id": "e481b1af",
   "metadata": {},
   "source": [
    "#### Loop through each page and extract the data"
   ]
  },
  {
   "cell_type": "code",
   "execution_count": 8,
   "id": "d6e35a8a",
   "metadata": {},
   "outputs": [],
   "source": [
    "DFS = []\n",
    "CCOUNTS = []\n",
    "for i, x in enumerate(webpages):    \n",
    "    temp = requests.get(x)\n",
    "    try:   \n",
    "        data = parse_results(temp)\n",
    "        \n",
    "        if type(data) == list:\n",
    "            CCOUNTS += data\n",
    "        \n",
    "        else:\n",
    "            data = data.loc[~data[\"Tie\"].str.contains(\"Withdraw\")]\n",
    "            DFS.append(data)\n",
    "    except:\n",
    "        pass   "
   ]
  },
  {
   "cell_type": "markdown",
   "id": "37c5d3e6",
   "metadata": {},
   "source": [
    "### Part 2: Calculating the points awarded for each event"
   ]
  },
  {
   "cell_type": "code",
   "execution_count": 9,
   "id": "3f4d8eb9",
   "metadata": {},
   "outputs": [],
   "source": [
    "lookup = {24: [12, 11, 10, 9, 8, 7, 6, 5, 4, 3, 2, 1, 1, 1, 1, 1, 1, 1, 1, 1, 1, 1, 1, 1],\n",
    "          23: [12, 11, 10, 9, 8, 7, 6, 5, 4, 3, 2, 1, 1, 1, 1, 1, 1, 1, 1, 1, 1, 1, 1],\n",
    "          22: [12, 11, 10, 9, 8, 7, 6, 5, 4, 3, 2, 1, 1, 1, 1, 1, 1, 1, 1, 1, 1, 1],\n",
    "          21: [12, 11, 10, 9, 8, 7, 6, 5, 4, 3, 2, 1, 1, 1, 1, 1, 1, 1, 1, 1, 1],\n",
    "          20: [12, 11, 10, 9, 8, 7, 6, 5, 4, 3, 2, 1, 1, 1, 1, 1, 1, 1, 1, 1],\n",
    "          19: [12, 11, 10, 9, 8, 7, 6, 5, 4, 3, 2, 1, 1, 1, 1, 1, 1, 1, 1],\n",
    "          18: [12, 11, 10, 9, 8, 7, 6, 5, 4, 3, 2, 1, 1, 1, 1, 1, 1, 1],\n",
    "          17: [12, 11, 10, 9, 8, 7, 6, 5, 4, 3, 2, 1, 1, 1, 1, 1, 1],\n",
    "          16: [12, 11, 10, 9, 8, 7, 6, 5, 4, 3, 2, 1, 1, 1, 1, 1],\n",
    "          15: [12, 11, 10, 9, 8, 7, 6, 5, 4, 3, 2, 1, 1, 1, 1],\n",
    "          14: [12, 11, 10, 9, 8, 7, 6, 5, 4, 3, 2, 1, 1, 1],\n",
    "          13: [12, 11, 10, 9, 8, 7, 6, 5, 4, 3, 2, 1, 1],\n",
    "          12: [12, 11, 10, 9, 8, 7, 6, 5, 4, 3, 2, 1],\n",
    "          11: [12, 10, 9, 8, 7, 6, 5, 4, 3, 2, 1],\n",
    "          10: [12, 10, 8, 7, 6, 5, 4, 3, 2, 1],\n",
    "          9: [12, 10, 8, 6, 5, 4, 3, 2, 1],\n",
    "          8: [12, 10, 8, 6, 4, 3, 2, 1],\n",
    "          7: [12, 10, 8, 6, 4, 2, 1],\n",
    "          6: [12, 10, 8, 6, 4, 2],\n",
    "          5: [10, 8, 6, 4, 2],\n",
    "          4: [8, 6, 4, 2],\n",
    "          3: [6, 4, 2],\n",
    "          2: [6, 4],\n",
    "          1: [6]\n",
    "         }"
   ]
  },
  {
   "cell_type": "code",
   "execution_count": 10,
   "id": "f05d2c07",
   "metadata": {},
   "outputs": [],
   "source": [
    "OUT = []\n",
    "for i, x in enumerate(DFS):\n",
    "    num = len(x)\n",
    "    \n",
    "    # Assign a number of points to each column\n",
    "    x = x.assign(points = lookup[num])\n",
    "\n",
    "    # Handle ties\n",
    "    temp = x.groupby(\"Place\")[\"points\"].transform(lambda x: x.mean())\n",
    "    x = x.assign(points = temp)\n",
    "    \n",
    "    # Handle championship event edge case\n",
    "    if \"Championship\" in events[i].text or \"International\" in events[i].text:\n",
    "        x[\"points\"] = x[\"points\"] + 2\n",
    "    \n",
    "    OUT.append(x)"
   ]
  },
  {
   "cell_type": "code",
   "execution_count": 13,
   "id": "d2154eb8",
   "metadata": {},
   "outputs": [],
   "source": [
    "try:\n",
    "    FULL = pd.concat(OUT)\n",
    "\n",
    "    # Eliminate the error where it says 'U' instead of 'University'\n",
    "    # Keep in mind there are still a few errors with the names of the colleges\n",
    "    # that I have not fixed yet\n",
    "    import re\n",
    "    FULL['College'] = FULL['College'].apply(lambda x: re.sub('^U ', 'University ', x))\n",
    "    FULL['College'] = FULL['College'].apply(lambda x: re.sub(' U$', ' University', x))\n",
    "    FULL['College'] = FULL['College'].replace(pc_rep, regex=True)\n",
    "\n",
    "    \n",
    "except:\n",
    "    print('Competition has not started yet!')"
   ]
  },
  {
   "cell_type": "markdown",
   "id": "d690beb1",
   "metadata": {},
   "source": [
    "#### Team Standings"
   ]
  },
  {
   "cell_type": "code",
   "execution_count": 14,
   "id": "e241490e",
   "metadata": {
    "scrolled": false
   },
   "outputs": [
    {
     "data": {
      "text/plain": [
       "College\n",
       "Univ. of Washington                82.0\n",
       "Univ. of CA - Los Angeles          48.5\n",
       "Univ. of CA - San Diego            45.0\n",
       "Univ. of CA - Berkeley             29.0\n",
       "Univ. of Denver                    24.0\n",
       "Univ. of Southern CA               22.0\n",
       "Stanford Univ.                     21.0\n",
       "Univ. of CO - Boulder              17.0\n",
       "Univ. of CO - Colorado Springs     15.0\n",
       "University of Oregon               12.0\n",
       "Arizona State Univ.                11.0\n",
       "Colorado College                   10.0\n",
       "Utah State Univ.                    7.0\n",
       "Colorado State Univ.                6.0\n",
       "Univ. of CA - Davis                 5.5\n",
       "Univ. of CA - Santa Barbara         4.0\n",
       "University of Northern Colorado     3.0\n",
       "Name: points, dtype: float64"
      ]
     },
     "execution_count": 14,
     "metadata": {},
     "output_type": "execute_result"
    }
   ],
   "source": [
    "A = FULL.groupby(\"College\")[\"points\"].sum().sort_values(ascending = False)\n",
    "A"
   ]
  },
  {
   "cell_type": "markdown",
   "id": "b28a15c7",
   "metadata": {},
   "source": [
    "#### Number of Starts per Team"
   ]
  },
  {
   "cell_type": "code",
   "execution_count": 15,
   "id": "20873d16",
   "metadata": {},
   "outputs": [
    {
     "data": {
      "text/plain": [
       "College\n",
       "Univ. of CA - Los Angeles          9\n",
       "Univ. of Washington                8\n",
       "Univ. of CA - San Diego            6\n",
       "Stanford Univ.                     5\n",
       "Univ. of Southern CA               4\n",
       "Univ. of CO - Boulder              4\n",
       "Utah State Univ.                   3\n",
       "Univ. of CA - Berkeley             3\n",
       "Colorado College                   3\n",
       "Univ. of CO - Colorado Springs     3\n",
       "Univ. of Denver                    3\n",
       "University of Northern Colorado    2\n",
       "Arizona State Univ.                2\n",
       "Univ. of CA - Santa Barbara        2\n",
       "Univ. of CA - Davis                1\n",
       "Colorado State Univ.               1\n",
       "University of Oregon               1\n",
       "Name: Place, dtype: int64"
      ]
     },
     "execution_count": 15,
     "metadata": {},
     "output_type": "execute_result"
    }
   ],
   "source": [
    "B = FULL.groupby(\"College\").count()[\"Place\"].sort_values(ascending=False)\n",
    "B"
   ]
  },
  {
   "cell_type": "markdown",
   "id": "31924819",
   "metadata": {},
   "source": [
    "#### Points per start ratio"
   ]
  },
  {
   "cell_type": "code",
   "execution_count": 16,
   "id": "a871ca67",
   "metadata": {
    "scrolled": true
   },
   "outputs": [
    {
     "data": {
      "text/html": [
       "<div>\n",
       "<style scoped>\n",
       "    .dataframe tbody tr th:only-of-type {\n",
       "        vertical-align: middle;\n",
       "    }\n",
       "\n",
       "    .dataframe tbody tr th {\n",
       "        vertical-align: top;\n",
       "    }\n",
       "\n",
       "    .dataframe thead th {\n",
       "        text-align: right;\n",
       "    }\n",
       "</style>\n",
       "<table border=\"1\" class=\"dataframe\">\n",
       "  <thead>\n",
       "    <tr style=\"text-align: right;\">\n",
       "      <th></th>\n",
       "      <th>Points</th>\n",
       "      <th>Number of Starts</th>\n",
       "      <th>Ratio</th>\n",
       "    </tr>\n",
       "    <tr>\n",
       "      <th>College</th>\n",
       "      <th></th>\n",
       "      <th></th>\n",
       "      <th></th>\n",
       "    </tr>\n",
       "  </thead>\n",
       "  <tbody>\n",
       "    <tr>\n",
       "      <th>University of Oregon</th>\n",
       "      <td>12.0</td>\n",
       "      <td>1</td>\n",
       "      <td>12.000000</td>\n",
       "    </tr>\n",
       "    <tr>\n",
       "      <th>Univ. of Washington</th>\n",
       "      <td>82.0</td>\n",
       "      <td>8</td>\n",
       "      <td>10.250000</td>\n",
       "    </tr>\n",
       "    <tr>\n",
       "      <th>Univ. of CA - Berkeley</th>\n",
       "      <td>29.0</td>\n",
       "      <td>3</td>\n",
       "      <td>9.666667</td>\n",
       "    </tr>\n",
       "    <tr>\n",
       "      <th>Univ. of Denver</th>\n",
       "      <td>24.0</td>\n",
       "      <td>3</td>\n",
       "      <td>8.000000</td>\n",
       "    </tr>\n",
       "    <tr>\n",
       "      <th>Univ. of CA - San Diego</th>\n",
       "      <td>45.0</td>\n",
       "      <td>6</td>\n",
       "      <td>7.500000</td>\n",
       "    </tr>\n",
       "    <tr>\n",
       "      <th>Colorado State Univ.</th>\n",
       "      <td>6.0</td>\n",
       "      <td>1</td>\n",
       "      <td>6.000000</td>\n",
       "    </tr>\n",
       "    <tr>\n",
       "      <th>Arizona State Univ.</th>\n",
       "      <td>11.0</td>\n",
       "      <td>2</td>\n",
       "      <td>5.500000</td>\n",
       "    </tr>\n",
       "    <tr>\n",
       "      <th>Univ. of Southern CA</th>\n",
       "      <td>22.0</td>\n",
       "      <td>4</td>\n",
       "      <td>5.500000</td>\n",
       "    </tr>\n",
       "    <tr>\n",
       "      <th>Univ. of CA - Davis</th>\n",
       "      <td>5.5</td>\n",
       "      <td>1</td>\n",
       "      <td>5.500000</td>\n",
       "    </tr>\n",
       "    <tr>\n",
       "      <th>Univ. of CA - Los Angeles</th>\n",
       "      <td>48.5</td>\n",
       "      <td>9</td>\n",
       "      <td>5.388889</td>\n",
       "    </tr>\n",
       "    <tr>\n",
       "      <th>Univ. of CO - Colorado Springs</th>\n",
       "      <td>15.0</td>\n",
       "      <td>3</td>\n",
       "      <td>5.000000</td>\n",
       "    </tr>\n",
       "    <tr>\n",
       "      <th>Univ. of CO - Boulder</th>\n",
       "      <td>17.0</td>\n",
       "      <td>4</td>\n",
       "      <td>4.250000</td>\n",
       "    </tr>\n",
       "    <tr>\n",
       "      <th>Stanford Univ.</th>\n",
       "      <td>21.0</td>\n",
       "      <td>5</td>\n",
       "      <td>4.200000</td>\n",
       "    </tr>\n",
       "    <tr>\n",
       "      <th>Colorado College</th>\n",
       "      <td>10.0</td>\n",
       "      <td>3</td>\n",
       "      <td>3.333333</td>\n",
       "    </tr>\n",
       "    <tr>\n",
       "      <th>Utah State Univ.</th>\n",
       "      <td>7.0</td>\n",
       "      <td>3</td>\n",
       "      <td>2.333333</td>\n",
       "    </tr>\n",
       "    <tr>\n",
       "      <th>Univ. of CA - Santa Barbara</th>\n",
       "      <td>4.0</td>\n",
       "      <td>2</td>\n",
       "      <td>2.000000</td>\n",
       "    </tr>\n",
       "    <tr>\n",
       "      <th>University of Northern Colorado</th>\n",
       "      <td>3.0</td>\n",
       "      <td>2</td>\n",
       "      <td>1.500000</td>\n",
       "    </tr>\n",
       "  </tbody>\n",
       "</table>\n",
       "</div>"
      ],
      "text/plain": [
       "                                 Points  Number of Starts      Ratio\n",
       "College                                                             \n",
       "University of Oregon               12.0                 1  12.000000\n",
       "Univ. of Washington                82.0                 8  10.250000\n",
       "Univ. of CA - Berkeley             29.0                 3   9.666667\n",
       "Univ. of Denver                    24.0                 3   8.000000\n",
       "Univ. of CA - San Diego            45.0                 6   7.500000\n",
       "Colorado State Univ.                6.0                 1   6.000000\n",
       "Arizona State Univ.                11.0                 2   5.500000\n",
       "Univ. of Southern CA               22.0                 4   5.500000\n",
       "Univ. of CA - Davis                 5.5                 1   5.500000\n",
       "Univ. of CA - Los Angeles          48.5                 9   5.388889\n",
       "Univ. of CO - Colorado Springs     15.0                 3   5.000000\n",
       "Univ. of CO - Boulder              17.0                 4   4.250000\n",
       "Stanford Univ.                     21.0                 5   4.200000\n",
       "Colorado College                   10.0                 3   3.333333\n",
       "Utah State Univ.                    7.0                 3   2.333333\n",
       "Univ. of CA - Santa Barbara         4.0                 2   2.000000\n",
       "University of Northern Colorado     3.0                 2   1.500000"
      ]
     },
     "execution_count": 16,
     "metadata": {},
     "output_type": "execute_result"
    }
   ],
   "source": [
    "C = pd.merge(A.to_frame(), B.to_frame(), left_index=True, right_index=True)\n",
    "C.columns = [\"Points\", \"Number of Starts\"]\n",
    "\n",
    "C[\"Ratio\"] = C[\"Points\"] / C[\"Number of Starts\"]\n",
    "C.sort_values(by=\"Ratio\", ascending = False)"
   ]
  },
  {
   "cell_type": "markdown",
   "id": "8d8d2320",
   "metadata": {},
   "source": [
    "#### Starts Remaining"
   ]
  },
  {
   "cell_type": "code",
   "execution_count": 17,
   "id": "901a0d6a",
   "metadata": {},
   "outputs": [
    {
     "data": {
      "text/plain": [
       "319"
      ]
     },
     "execution_count": 17,
     "metadata": {},
     "output_type": "execute_result"
    }
   ],
   "source": [
    "REM = pd.Series(CCOUNTS).replace(pc_rep, regex=True)\n",
    "REM = REM.str.replace('Univ.', 'University')\n",
    "REM = REM.value_counts()\n",
    "REM.sum()"
   ]
  },
  {
   "cell_type": "code",
   "execution_count": 19,
   "id": "1f76a3bb",
   "metadata": {},
   "outputs": [
    {
     "data": {
      "text/html": [
       "<div>\n",
       "<style scoped>\n",
       "    .dataframe tbody tr th:only-of-type {\n",
       "        vertical-align: middle;\n",
       "    }\n",
       "\n",
       "    .dataframe tbody tr th {\n",
       "        vertical-align: top;\n",
       "    }\n",
       "\n",
       "    .dataframe thead th {\n",
       "        text-align: right;\n",
       "    }\n",
       "</style>\n",
       "<table border=\"1\" class=\"dataframe\">\n",
       "  <thead>\n",
       "    <tr style=\"text-align: right;\">\n",
       "      <th></th>\n",
       "      <th>Points</th>\n",
       "      <th>Number of Starts</th>\n",
       "      <th>Ratio</th>\n",
       "      <th>Starts Remaining</th>\n",
       "      <th>Predicted Points</th>\n",
       "    </tr>\n",
       "    <tr>\n",
       "      <th>College</th>\n",
       "      <th></th>\n",
       "      <th></th>\n",
       "      <th></th>\n",
       "      <th></th>\n",
       "      <th></th>\n",
       "    </tr>\n",
       "  </thead>\n",
       "  <tbody>\n",
       "    <tr>\n",
       "      <th>Univ. of Washington</th>\n",
       "      <td>82.0</td>\n",
       "      <td>8</td>\n",
       "      <td>10.250000</td>\n",
       "      <td>NaN</td>\n",
       "      <td>NaN</td>\n",
       "    </tr>\n",
       "    <tr>\n",
       "      <th>Univ. of CA - Los Angeles</th>\n",
       "      <td>48.5</td>\n",
       "      <td>9</td>\n",
       "      <td>5.388889</td>\n",
       "      <td>NaN</td>\n",
       "      <td>NaN</td>\n",
       "    </tr>\n",
       "    <tr>\n",
       "      <th>Univ. of CA - San Diego</th>\n",
       "      <td>45.0</td>\n",
       "      <td>6</td>\n",
       "      <td>7.500000</td>\n",
       "      <td>NaN</td>\n",
       "      <td>NaN</td>\n",
       "    </tr>\n",
       "    <tr>\n",
       "      <th>Univ. of CA - Berkeley</th>\n",
       "      <td>29.0</td>\n",
       "      <td>3</td>\n",
       "      <td>9.666667</td>\n",
       "      <td>NaN</td>\n",
       "      <td>NaN</td>\n",
       "    </tr>\n",
       "    <tr>\n",
       "      <th>Univ. of Denver</th>\n",
       "      <td>24.0</td>\n",
       "      <td>3</td>\n",
       "      <td>8.000000</td>\n",
       "      <td>NaN</td>\n",
       "      <td>NaN</td>\n",
       "    </tr>\n",
       "    <tr>\n",
       "      <th>Univ. of Southern CA</th>\n",
       "      <td>22.0</td>\n",
       "      <td>4</td>\n",
       "      <td>5.500000</td>\n",
       "      <td>NaN</td>\n",
       "      <td>NaN</td>\n",
       "    </tr>\n",
       "    <tr>\n",
       "      <th>Stanford Univ.</th>\n",
       "      <td>21.0</td>\n",
       "      <td>5</td>\n",
       "      <td>4.200000</td>\n",
       "      <td>NaN</td>\n",
       "      <td>NaN</td>\n",
       "    </tr>\n",
       "    <tr>\n",
       "      <th>Univ. of CO - Boulder</th>\n",
       "      <td>17.0</td>\n",
       "      <td>4</td>\n",
       "      <td>4.250000</td>\n",
       "      <td>NaN</td>\n",
       "      <td>NaN</td>\n",
       "    </tr>\n",
       "    <tr>\n",
       "      <th>Univ. of CO - Colorado Springs</th>\n",
       "      <td>15.0</td>\n",
       "      <td>3</td>\n",
       "      <td>5.000000</td>\n",
       "      <td>NaN</td>\n",
       "      <td>NaN</td>\n",
       "    </tr>\n",
       "    <tr>\n",
       "      <th>University of Oregon</th>\n",
       "      <td>12.0</td>\n",
       "      <td>1</td>\n",
       "      <td>12.000000</td>\n",
       "      <td>5.0</td>\n",
       "      <td>72.0</td>\n",
       "    </tr>\n",
       "    <tr>\n",
       "      <th>Arizona State Univ.</th>\n",
       "      <td>11.0</td>\n",
       "      <td>2</td>\n",
       "      <td>5.500000</td>\n",
       "      <td>NaN</td>\n",
       "      <td>NaN</td>\n",
       "    </tr>\n",
       "    <tr>\n",
       "      <th>Colorado College</th>\n",
       "      <td>10.0</td>\n",
       "      <td>3</td>\n",
       "      <td>3.333333</td>\n",
       "      <td>9.0</td>\n",
       "      <td>40.0</td>\n",
       "    </tr>\n",
       "    <tr>\n",
       "      <th>Utah State Univ.</th>\n",
       "      <td>7.0</td>\n",
       "      <td>3</td>\n",
       "      <td>2.333333</td>\n",
       "      <td>NaN</td>\n",
       "      <td>NaN</td>\n",
       "    </tr>\n",
       "    <tr>\n",
       "      <th>Colorado State Univ.</th>\n",
       "      <td>6.0</td>\n",
       "      <td>1</td>\n",
       "      <td>6.000000</td>\n",
       "      <td>NaN</td>\n",
       "      <td>NaN</td>\n",
       "    </tr>\n",
       "    <tr>\n",
       "      <th>Univ. of CA - Davis</th>\n",
       "      <td>5.5</td>\n",
       "      <td>1</td>\n",
       "      <td>5.500000</td>\n",
       "      <td>NaN</td>\n",
       "      <td>NaN</td>\n",
       "    </tr>\n",
       "    <tr>\n",
       "      <th>Univ. of CA - Santa Barbara</th>\n",
       "      <td>4.0</td>\n",
       "      <td>2</td>\n",
       "      <td>2.000000</td>\n",
       "      <td>NaN</td>\n",
       "      <td>NaN</td>\n",
       "    </tr>\n",
       "    <tr>\n",
       "      <th>University of Northern Colorado</th>\n",
       "      <td>3.0</td>\n",
       "      <td>2</td>\n",
       "      <td>1.500000</td>\n",
       "      <td>3.0</td>\n",
       "      <td>7.5</td>\n",
       "    </tr>\n",
       "  </tbody>\n",
       "</table>\n",
       "</div>"
      ],
      "text/plain": [
       "                                 Points  Number of Starts      Ratio  \\\n",
       "College                                                                \n",
       "Univ. of Washington                82.0                 8  10.250000   \n",
       "Univ. of CA - Los Angeles          48.5                 9   5.388889   \n",
       "Univ. of CA - San Diego            45.0                 6   7.500000   \n",
       "Univ. of CA - Berkeley             29.0                 3   9.666667   \n",
       "Univ. of Denver                    24.0                 3   8.000000   \n",
       "Univ. of Southern CA               22.0                 4   5.500000   \n",
       "Stanford Univ.                     21.0                 5   4.200000   \n",
       "Univ. of CO - Boulder              17.0                 4   4.250000   \n",
       "Univ. of CO - Colorado Springs     15.0                 3   5.000000   \n",
       "University of Oregon               12.0                 1  12.000000   \n",
       "Arizona State Univ.                11.0                 2   5.500000   \n",
       "Colorado College                   10.0                 3   3.333333   \n",
       "Utah State Univ.                    7.0                 3   2.333333   \n",
       "Colorado State Univ.                6.0                 1   6.000000   \n",
       "Univ. of CA - Davis                 5.5                 1   5.500000   \n",
       "Univ. of CA - Santa Barbara         4.0                 2   2.000000   \n",
       "University of Northern Colorado     3.0                 2   1.500000   \n",
       "\n",
       "                                 Starts Remaining  Predicted Points  \n",
       "College                                                              \n",
       "Univ. of Washington                           NaN               NaN  \n",
       "Univ. of CA - Los Angeles                     NaN               NaN  \n",
       "Univ. of CA - San Diego                       NaN               NaN  \n",
       "Univ. of CA - Berkeley                        NaN               NaN  \n",
       "Univ. of Denver                               NaN               NaN  \n",
       "Univ. of Southern CA                          NaN               NaN  \n",
       "Stanford Univ.                                NaN               NaN  \n",
       "Univ. of CO - Boulder                         NaN               NaN  \n",
       "Univ. of CO - Colorado Springs                NaN               NaN  \n",
       "University of Oregon                          5.0              72.0  \n",
       "Arizona State Univ.                           NaN               NaN  \n",
       "Colorado College                              9.0              40.0  \n",
       "Utah State Univ.                              NaN               NaN  \n",
       "Colorado State Univ.                          NaN               NaN  \n",
       "Univ. of CA - Davis                           NaN               NaN  \n",
       "Univ. of CA - Santa Barbara                   NaN               NaN  \n",
       "University of Northern Colorado               3.0               7.5  "
      ]
     },
     "execution_count": 19,
     "metadata": {},
     "output_type": "execute_result"
    }
   ],
   "source": [
    "D = pd.merge(C, REM, how='left', left_index=True, right_index=True)\n",
    "D.columns = list(D.columns[:-1]) + ['Starts Remaining']\n",
    "D['Predicted Points'] = D['Starts Remaining'] * D['Ratio'] + D['Points']\n",
    "D.sort_values(by=\"Points\", ascending = False)"
   ]
  },
  {
   "cell_type": "markdown",
   "id": "523e7960",
   "metadata": {},
   "source": [
    "#### Total Number of Starts"
   ]
  },
  {
   "cell_type": "code",
   "execution_count": 24,
   "id": "efcd404b",
   "metadata": {},
   "outputs": [
    {
     "data": {
      "text/plain": [
       "60"
      ]
     },
     "execution_count": 24,
     "metadata": {},
     "output_type": "execute_result"
    }
   ],
   "source": [
    "C[\"Number of Starts\"].sum()"
   ]
  },
  {
   "cell_type": "markdown",
   "id": "c3976fbe",
   "metadata": {},
   "source": [
    "#### To get a general count of how many of each type of official each competition has"
   ]
  },
  {
   "cell_type": "code",
   "execution_count": 122,
   "id": "e1ef52a6",
   "metadata": {},
   "outputs": [],
   "source": [
    "import numpy as np"
   ]
  },
  {
   "cell_type": "code",
   "execution_count": 123,
   "id": "b085c8e3",
   "metadata": {},
   "outputs": [],
   "source": [
    "DFS = []\n",
    "for i, x in enumerate(webpages):\n",
    "    temp = requests.get(x)\n",
    "    "
   ]
  },
  {
   "cell_type": "code",
   "execution_count": 124,
   "id": "538995f0",
   "metadata": {},
   "outputs": [],
   "source": [
    "def process_judges(text):\n",
    "    soup = bs4.BeautifulSoup(text)\n",
    "    tabs = np.array(list(map(lambda x: x.text, soup.find_all('td'))))\n",
    "    offs = tabs[np.where(tabs == 'Judge 1')[0][0]:][1::3][:-1]\n",
    "    return list(offs)"
   ]
  },
  {
   "cell_type": "code",
   "execution_count": 125,
   "id": "667ab9aa",
   "metadata": {},
   "outputs": [],
   "source": [
    "def process_referees(text):\n",
    "    soup = bs4.BeautifulSoup(text)\n",
    "    tabs = tabs = np.array(list(map(lambda x: x.text, soup.find_all('td'))))\n",
    "    refs = tabs[np.where(tabs == 'Referee')[0][0] + 1]\n",
    "    return [refs]"
   ]
  },
  {
   "cell_type": "code",
   "execution_count": 126,
   "id": "2a220fe4",
   "metadata": {},
   "outputs": [],
   "source": [
    "def process_accountants(text):\n",
    "    soup = bs4.BeautifulSoup(text)\n",
    "    tabs = tabs = np.array(list(map(lambda x: x.text, soup.find_all('td'))))\n",
    "    accs = tabs[np.where(tabs == 'Accountant')[0][0] + 1]\n",
    "    return [accs]"
   ]
  },
  {
   "cell_type": "code",
   "execution_count": 127,
   "id": "f4cd895c",
   "metadata": {},
   "outputs": [],
   "source": [
    "JUDGES = []\n",
    "for i, x in enumerate(webpages):\n",
    "    temp = requests.get(x)\n",
    "    jlst = process_judges(temp.text)\n",
    "    JUDGES += jlst"
   ]
  },
  {
   "cell_type": "code",
   "execution_count": 128,
   "id": "0fbb74e3",
   "metadata": {},
   "outputs": [],
   "source": [
    "REFEREES = []\n",
    "for i, x in enumerate(webpages):\n",
    "    temp = requests.get(x)\n",
    "    rlst = process_referees(temp.text)\n",
    "    REFEREES += rlst"
   ]
  },
  {
   "cell_type": "code",
   "execution_count": 129,
   "id": "03300551",
   "metadata": {},
   "outputs": [
    {
     "ename": "ConnectionError",
     "evalue": "('Connection aborted.', TimeoutError(60, 'Operation timed out'))",
     "output_type": "error",
     "traceback": [
      "\u001b[0;31m---------------------------------------------------------------------------\u001b[0m",
      "\u001b[0;31mTimeoutError\u001b[0m                              Traceback (most recent call last)",
      "\u001b[0;32m~/opt/anaconda3/lib/python3.9/site-packages/urllib3/connectionpool.py\u001b[0m in \u001b[0;36murlopen\u001b[0;34m(self, method, url, body, headers, retries, redirect, assert_same_host, timeout, pool_timeout, release_conn, chunked, body_pos, **response_kw)\u001b[0m\n\u001b[1;32m    698\u001b[0m             \u001b[0;31m# Make the request on the httplib connection object.\u001b[0m\u001b[0;34m\u001b[0m\u001b[0;34m\u001b[0m\u001b[0m\n\u001b[0;32m--> 699\u001b[0;31m             httplib_response = self._make_request(\n\u001b[0m\u001b[1;32m    700\u001b[0m                 \u001b[0mconn\u001b[0m\u001b[0;34m,\u001b[0m\u001b[0;34m\u001b[0m\u001b[0;34m\u001b[0m\u001b[0m\n",
      "\u001b[0;32m~/opt/anaconda3/lib/python3.9/site-packages/urllib3/connectionpool.py\u001b[0m in \u001b[0;36m_make_request\u001b[0;34m(self, conn, method, url, timeout, chunked, **httplib_request_kw)\u001b[0m\n\u001b[1;32m    381\u001b[0m         \u001b[0;32mtry\u001b[0m\u001b[0;34m:\u001b[0m\u001b[0;34m\u001b[0m\u001b[0;34m\u001b[0m\u001b[0m\n\u001b[0;32m--> 382\u001b[0;31m             \u001b[0mself\u001b[0m\u001b[0;34m.\u001b[0m\u001b[0m_validate_conn\u001b[0m\u001b[0;34m(\u001b[0m\u001b[0mconn\u001b[0m\u001b[0;34m)\u001b[0m\u001b[0;34m\u001b[0m\u001b[0;34m\u001b[0m\u001b[0m\n\u001b[0m\u001b[1;32m    383\u001b[0m         \u001b[0;32mexcept\u001b[0m \u001b[0;34m(\u001b[0m\u001b[0mSocketTimeout\u001b[0m\u001b[0;34m,\u001b[0m \u001b[0mBaseSSLError\u001b[0m\u001b[0;34m)\u001b[0m \u001b[0;32mas\u001b[0m \u001b[0me\u001b[0m\u001b[0;34m:\u001b[0m\u001b[0;34m\u001b[0m\u001b[0;34m\u001b[0m\u001b[0m\n",
      "\u001b[0;32m~/opt/anaconda3/lib/python3.9/site-packages/urllib3/connectionpool.py\u001b[0m in \u001b[0;36m_validate_conn\u001b[0;34m(self, conn)\u001b[0m\n\u001b[1;32m   1009\u001b[0m         \u001b[0;32mif\u001b[0m \u001b[0;32mnot\u001b[0m \u001b[0mgetattr\u001b[0m\u001b[0;34m(\u001b[0m\u001b[0mconn\u001b[0m\u001b[0;34m,\u001b[0m \u001b[0;34m\"sock\"\u001b[0m\u001b[0;34m,\u001b[0m \u001b[0;32mNone\u001b[0m\u001b[0;34m)\u001b[0m\u001b[0;34m:\u001b[0m  \u001b[0;31m# AppEngine might not have  `.sock`\u001b[0m\u001b[0;34m\u001b[0m\u001b[0;34m\u001b[0m\u001b[0m\n\u001b[0;32m-> 1010\u001b[0;31m             \u001b[0mconn\u001b[0m\u001b[0;34m.\u001b[0m\u001b[0mconnect\u001b[0m\u001b[0;34m(\u001b[0m\u001b[0;34m)\u001b[0m\u001b[0;34m\u001b[0m\u001b[0;34m\u001b[0m\u001b[0m\n\u001b[0m\u001b[1;32m   1011\u001b[0m \u001b[0;34m\u001b[0m\u001b[0m\n",
      "\u001b[0;32m~/opt/anaconda3/lib/python3.9/site-packages/urllib3/connection.py\u001b[0m in \u001b[0;36mconnect\u001b[0;34m(self)\u001b[0m\n\u001b[1;32m    415\u001b[0m \u001b[0;34m\u001b[0m\u001b[0m\n\u001b[0;32m--> 416\u001b[0;31m         self.sock = ssl_wrap_socket(\n\u001b[0m\u001b[1;32m    417\u001b[0m             \u001b[0msock\u001b[0m\u001b[0;34m=\u001b[0m\u001b[0mconn\u001b[0m\u001b[0;34m,\u001b[0m\u001b[0;34m\u001b[0m\u001b[0;34m\u001b[0m\u001b[0m\n",
      "\u001b[0;32m~/opt/anaconda3/lib/python3.9/site-packages/urllib3/util/ssl_.py\u001b[0m in \u001b[0;36mssl_wrap_socket\u001b[0;34m(sock, keyfile, certfile, cert_reqs, ca_certs, server_hostname, ssl_version, ciphers, ssl_context, ca_cert_dir, key_password, ca_cert_data, tls_in_tls)\u001b[0m\n\u001b[1;32m    448\u001b[0m     \u001b[0;32mif\u001b[0m \u001b[0msend_sni\u001b[0m\u001b[0;34m:\u001b[0m\u001b[0;34m\u001b[0m\u001b[0;34m\u001b[0m\u001b[0m\n\u001b[0;32m--> 449\u001b[0;31m         ssl_sock = _ssl_wrap_socket_impl(\n\u001b[0m\u001b[1;32m    450\u001b[0m             \u001b[0msock\u001b[0m\u001b[0;34m,\u001b[0m \u001b[0mcontext\u001b[0m\u001b[0;34m,\u001b[0m \u001b[0mtls_in_tls\u001b[0m\u001b[0;34m,\u001b[0m \u001b[0mserver_hostname\u001b[0m\u001b[0;34m=\u001b[0m\u001b[0mserver_hostname\u001b[0m\u001b[0;34m\u001b[0m\u001b[0;34m\u001b[0m\u001b[0m\n",
      "\u001b[0;32m~/opt/anaconda3/lib/python3.9/site-packages/urllib3/util/ssl_.py\u001b[0m in \u001b[0;36m_ssl_wrap_socket_impl\u001b[0;34m(sock, ssl_context, tls_in_tls, server_hostname)\u001b[0m\n\u001b[1;32m    492\u001b[0m     \u001b[0;32mif\u001b[0m \u001b[0mserver_hostname\u001b[0m\u001b[0;34m:\u001b[0m\u001b[0;34m\u001b[0m\u001b[0;34m\u001b[0m\u001b[0m\n\u001b[0;32m--> 493\u001b[0;31m         \u001b[0;32mreturn\u001b[0m \u001b[0mssl_context\u001b[0m\u001b[0;34m.\u001b[0m\u001b[0mwrap_socket\u001b[0m\u001b[0;34m(\u001b[0m\u001b[0msock\u001b[0m\u001b[0;34m,\u001b[0m \u001b[0mserver_hostname\u001b[0m\u001b[0;34m=\u001b[0m\u001b[0mserver_hostname\u001b[0m\u001b[0;34m)\u001b[0m\u001b[0;34m\u001b[0m\u001b[0;34m\u001b[0m\u001b[0m\n\u001b[0m\u001b[1;32m    494\u001b[0m     \u001b[0;32melse\u001b[0m\u001b[0;34m:\u001b[0m\u001b[0;34m\u001b[0m\u001b[0;34m\u001b[0m\u001b[0m\n",
      "\u001b[0;32m~/opt/anaconda3/lib/python3.9/ssl.py\u001b[0m in \u001b[0;36mwrap_socket\u001b[0;34m(self, sock, server_side, do_handshake_on_connect, suppress_ragged_eofs, server_hostname, session)\u001b[0m\n\u001b[1;32m    499\u001b[0m         \u001b[0;31m# ctx._wrap_socket()\u001b[0m\u001b[0;34m\u001b[0m\u001b[0;34m\u001b[0m\u001b[0m\n\u001b[0;32m--> 500\u001b[0;31m         return self.sslsocket_class._create(\n\u001b[0m\u001b[1;32m    501\u001b[0m             \u001b[0msock\u001b[0m\u001b[0;34m=\u001b[0m\u001b[0msock\u001b[0m\u001b[0;34m,\u001b[0m\u001b[0;34m\u001b[0m\u001b[0;34m\u001b[0m\u001b[0m\n",
      "\u001b[0;32m~/opt/anaconda3/lib/python3.9/ssl.py\u001b[0m in \u001b[0;36m_create\u001b[0;34m(cls, sock, server_side, do_handshake_on_connect, suppress_ragged_eofs, server_hostname, context, session)\u001b[0m\n\u001b[1;32m   1039\u001b[0m                         \u001b[0;32mraise\u001b[0m \u001b[0mValueError\u001b[0m\u001b[0;34m(\u001b[0m\u001b[0;34m\"do_handshake_on_connect should not be specified for non-blocking sockets\"\u001b[0m\u001b[0;34m)\u001b[0m\u001b[0;34m\u001b[0m\u001b[0;34m\u001b[0m\u001b[0m\n\u001b[0;32m-> 1040\u001b[0;31m                     \u001b[0mself\u001b[0m\u001b[0;34m.\u001b[0m\u001b[0mdo_handshake\u001b[0m\u001b[0;34m(\u001b[0m\u001b[0;34m)\u001b[0m\u001b[0;34m\u001b[0m\u001b[0;34m\u001b[0m\u001b[0m\n\u001b[0m\u001b[1;32m   1041\u001b[0m             \u001b[0;32mexcept\u001b[0m \u001b[0;34m(\u001b[0m\u001b[0mOSError\u001b[0m\u001b[0;34m,\u001b[0m \u001b[0mValueError\u001b[0m\u001b[0;34m)\u001b[0m\u001b[0;34m:\u001b[0m\u001b[0;34m\u001b[0m\u001b[0;34m\u001b[0m\u001b[0m\n",
      "\u001b[0;32m~/opt/anaconda3/lib/python3.9/ssl.py\u001b[0m in \u001b[0;36mdo_handshake\u001b[0;34m(self, block)\u001b[0m\n\u001b[1;32m   1308\u001b[0m                 \u001b[0mself\u001b[0m\u001b[0;34m.\u001b[0m\u001b[0msettimeout\u001b[0m\u001b[0;34m(\u001b[0m\u001b[0;32mNone\u001b[0m\u001b[0;34m)\u001b[0m\u001b[0;34m\u001b[0m\u001b[0;34m\u001b[0m\u001b[0m\n\u001b[0;32m-> 1309\u001b[0;31m             \u001b[0mself\u001b[0m\u001b[0;34m.\u001b[0m\u001b[0m_sslobj\u001b[0m\u001b[0;34m.\u001b[0m\u001b[0mdo_handshake\u001b[0m\u001b[0;34m(\u001b[0m\u001b[0;34m)\u001b[0m\u001b[0;34m\u001b[0m\u001b[0;34m\u001b[0m\u001b[0m\n\u001b[0m\u001b[1;32m   1310\u001b[0m         \u001b[0;32mfinally\u001b[0m\u001b[0;34m:\u001b[0m\u001b[0;34m\u001b[0m\u001b[0;34m\u001b[0m\u001b[0m\n",
      "\u001b[0;31mTimeoutError\u001b[0m: [Errno 60] Operation timed out",
      "\nDuring handling of the above exception, another exception occurred:\n",
      "\u001b[0;31mProtocolError\u001b[0m                             Traceback (most recent call last)",
      "\u001b[0;32m~/opt/anaconda3/lib/python3.9/site-packages/requests/adapters.py\u001b[0m in \u001b[0;36msend\u001b[0;34m(self, request, stream, timeout, verify, cert, proxies)\u001b[0m\n\u001b[1;32m    438\u001b[0m             \u001b[0;32mif\u001b[0m \u001b[0;32mnot\u001b[0m \u001b[0mchunked\u001b[0m\u001b[0;34m:\u001b[0m\u001b[0;34m\u001b[0m\u001b[0;34m\u001b[0m\u001b[0m\n\u001b[0;32m--> 439\u001b[0;31m                 resp = conn.urlopen(\n\u001b[0m\u001b[1;32m    440\u001b[0m                     \u001b[0mmethod\u001b[0m\u001b[0;34m=\u001b[0m\u001b[0mrequest\u001b[0m\u001b[0;34m.\u001b[0m\u001b[0mmethod\u001b[0m\u001b[0;34m,\u001b[0m\u001b[0;34m\u001b[0m\u001b[0;34m\u001b[0m\u001b[0m\n",
      "\u001b[0;32m~/opt/anaconda3/lib/python3.9/site-packages/urllib3/connectionpool.py\u001b[0m in \u001b[0;36murlopen\u001b[0;34m(self, method, url, body, headers, retries, redirect, assert_same_host, timeout, pool_timeout, release_conn, chunked, body_pos, **response_kw)\u001b[0m\n\u001b[1;32m    754\u001b[0m \u001b[0;34m\u001b[0m\u001b[0m\n\u001b[0;32m--> 755\u001b[0;31m             retries = retries.increment(\n\u001b[0m\u001b[1;32m    756\u001b[0m                 \u001b[0mmethod\u001b[0m\u001b[0;34m,\u001b[0m \u001b[0murl\u001b[0m\u001b[0;34m,\u001b[0m \u001b[0merror\u001b[0m\u001b[0;34m=\u001b[0m\u001b[0me\u001b[0m\u001b[0;34m,\u001b[0m \u001b[0m_pool\u001b[0m\u001b[0;34m=\u001b[0m\u001b[0mself\u001b[0m\u001b[0;34m,\u001b[0m \u001b[0m_stacktrace\u001b[0m\u001b[0;34m=\u001b[0m\u001b[0msys\u001b[0m\u001b[0;34m.\u001b[0m\u001b[0mexc_info\u001b[0m\u001b[0;34m(\u001b[0m\u001b[0;34m)\u001b[0m\u001b[0;34m[\u001b[0m\u001b[0;36m2\u001b[0m\u001b[0;34m]\u001b[0m\u001b[0;34m\u001b[0m\u001b[0;34m\u001b[0m\u001b[0m\n",
      "\u001b[0;32m~/opt/anaconda3/lib/python3.9/site-packages/urllib3/util/retry.py\u001b[0m in \u001b[0;36mincrement\u001b[0;34m(self, method, url, response, error, _pool, _stacktrace)\u001b[0m\n\u001b[1;32m    531\u001b[0m             \u001b[0;32mif\u001b[0m \u001b[0mread\u001b[0m \u001b[0;32mis\u001b[0m \u001b[0;32mFalse\u001b[0m \u001b[0;32mor\u001b[0m \u001b[0;32mnot\u001b[0m \u001b[0mself\u001b[0m\u001b[0;34m.\u001b[0m\u001b[0m_is_method_retryable\u001b[0m\u001b[0;34m(\u001b[0m\u001b[0mmethod\u001b[0m\u001b[0;34m)\u001b[0m\u001b[0;34m:\u001b[0m\u001b[0;34m\u001b[0m\u001b[0;34m\u001b[0m\u001b[0m\n\u001b[0;32m--> 532\u001b[0;31m                 \u001b[0;32mraise\u001b[0m \u001b[0msix\u001b[0m\u001b[0;34m.\u001b[0m\u001b[0mreraise\u001b[0m\u001b[0;34m(\u001b[0m\u001b[0mtype\u001b[0m\u001b[0;34m(\u001b[0m\u001b[0merror\u001b[0m\u001b[0;34m)\u001b[0m\u001b[0;34m,\u001b[0m \u001b[0merror\u001b[0m\u001b[0;34m,\u001b[0m \u001b[0m_stacktrace\u001b[0m\u001b[0;34m)\u001b[0m\u001b[0;34m\u001b[0m\u001b[0;34m\u001b[0m\u001b[0m\n\u001b[0m\u001b[1;32m    533\u001b[0m             \u001b[0;32melif\u001b[0m \u001b[0mread\u001b[0m \u001b[0;32mis\u001b[0m \u001b[0;32mnot\u001b[0m \u001b[0;32mNone\u001b[0m\u001b[0;34m:\u001b[0m\u001b[0;34m\u001b[0m\u001b[0;34m\u001b[0m\u001b[0m\n",
      "\u001b[0;32m~/opt/anaconda3/lib/python3.9/site-packages/urllib3/packages/six.py\u001b[0m in \u001b[0;36mreraise\u001b[0;34m(tp, value, tb)\u001b[0m\n\u001b[1;32m    768\u001b[0m             \u001b[0;32mif\u001b[0m \u001b[0mvalue\u001b[0m\u001b[0;34m.\u001b[0m\u001b[0m__traceback__\u001b[0m \u001b[0;32mis\u001b[0m \u001b[0;32mnot\u001b[0m \u001b[0mtb\u001b[0m\u001b[0;34m:\u001b[0m\u001b[0;34m\u001b[0m\u001b[0;34m\u001b[0m\u001b[0m\n\u001b[0;32m--> 769\u001b[0;31m                 \u001b[0;32mraise\u001b[0m \u001b[0mvalue\u001b[0m\u001b[0;34m.\u001b[0m\u001b[0mwith_traceback\u001b[0m\u001b[0;34m(\u001b[0m\u001b[0mtb\u001b[0m\u001b[0;34m)\u001b[0m\u001b[0;34m\u001b[0m\u001b[0;34m\u001b[0m\u001b[0m\n\u001b[0m\u001b[1;32m    770\u001b[0m             \u001b[0;32mraise\u001b[0m \u001b[0mvalue\u001b[0m\u001b[0;34m\u001b[0m\u001b[0;34m\u001b[0m\u001b[0m\n",
      "\u001b[0;32m~/opt/anaconda3/lib/python3.9/site-packages/urllib3/connectionpool.py\u001b[0m in \u001b[0;36murlopen\u001b[0;34m(self, method, url, body, headers, retries, redirect, assert_same_host, timeout, pool_timeout, release_conn, chunked, body_pos, **response_kw)\u001b[0m\n\u001b[1;32m    698\u001b[0m             \u001b[0;31m# Make the request on the httplib connection object.\u001b[0m\u001b[0;34m\u001b[0m\u001b[0;34m\u001b[0m\u001b[0m\n\u001b[0;32m--> 699\u001b[0;31m             httplib_response = self._make_request(\n\u001b[0m\u001b[1;32m    700\u001b[0m                 \u001b[0mconn\u001b[0m\u001b[0;34m,\u001b[0m\u001b[0;34m\u001b[0m\u001b[0;34m\u001b[0m\u001b[0m\n",
      "\u001b[0;32m~/opt/anaconda3/lib/python3.9/site-packages/urllib3/connectionpool.py\u001b[0m in \u001b[0;36m_make_request\u001b[0;34m(self, conn, method, url, timeout, chunked, **httplib_request_kw)\u001b[0m\n\u001b[1;32m    381\u001b[0m         \u001b[0;32mtry\u001b[0m\u001b[0;34m:\u001b[0m\u001b[0;34m\u001b[0m\u001b[0;34m\u001b[0m\u001b[0m\n\u001b[0;32m--> 382\u001b[0;31m             \u001b[0mself\u001b[0m\u001b[0;34m.\u001b[0m\u001b[0m_validate_conn\u001b[0m\u001b[0;34m(\u001b[0m\u001b[0mconn\u001b[0m\u001b[0;34m)\u001b[0m\u001b[0;34m\u001b[0m\u001b[0;34m\u001b[0m\u001b[0m\n\u001b[0m\u001b[1;32m    383\u001b[0m         \u001b[0;32mexcept\u001b[0m \u001b[0;34m(\u001b[0m\u001b[0mSocketTimeout\u001b[0m\u001b[0;34m,\u001b[0m \u001b[0mBaseSSLError\u001b[0m\u001b[0;34m)\u001b[0m \u001b[0;32mas\u001b[0m \u001b[0me\u001b[0m\u001b[0;34m:\u001b[0m\u001b[0;34m\u001b[0m\u001b[0;34m\u001b[0m\u001b[0m\n",
      "\u001b[0;32m~/opt/anaconda3/lib/python3.9/site-packages/urllib3/connectionpool.py\u001b[0m in \u001b[0;36m_validate_conn\u001b[0;34m(self, conn)\u001b[0m\n\u001b[1;32m   1009\u001b[0m         \u001b[0;32mif\u001b[0m \u001b[0;32mnot\u001b[0m \u001b[0mgetattr\u001b[0m\u001b[0;34m(\u001b[0m\u001b[0mconn\u001b[0m\u001b[0;34m,\u001b[0m \u001b[0;34m\"sock\"\u001b[0m\u001b[0;34m,\u001b[0m \u001b[0;32mNone\u001b[0m\u001b[0;34m)\u001b[0m\u001b[0;34m:\u001b[0m  \u001b[0;31m# AppEngine might not have  `.sock`\u001b[0m\u001b[0;34m\u001b[0m\u001b[0;34m\u001b[0m\u001b[0m\n\u001b[0;32m-> 1010\u001b[0;31m             \u001b[0mconn\u001b[0m\u001b[0;34m.\u001b[0m\u001b[0mconnect\u001b[0m\u001b[0;34m(\u001b[0m\u001b[0;34m)\u001b[0m\u001b[0;34m\u001b[0m\u001b[0;34m\u001b[0m\u001b[0m\n\u001b[0m\u001b[1;32m   1011\u001b[0m \u001b[0;34m\u001b[0m\u001b[0m\n",
      "\u001b[0;32m~/opt/anaconda3/lib/python3.9/site-packages/urllib3/connection.py\u001b[0m in \u001b[0;36mconnect\u001b[0;34m(self)\u001b[0m\n\u001b[1;32m    415\u001b[0m \u001b[0;34m\u001b[0m\u001b[0m\n\u001b[0;32m--> 416\u001b[0;31m         self.sock = ssl_wrap_socket(\n\u001b[0m\u001b[1;32m    417\u001b[0m             \u001b[0msock\u001b[0m\u001b[0;34m=\u001b[0m\u001b[0mconn\u001b[0m\u001b[0;34m,\u001b[0m\u001b[0;34m\u001b[0m\u001b[0;34m\u001b[0m\u001b[0m\n",
      "\u001b[0;32m~/opt/anaconda3/lib/python3.9/site-packages/urllib3/util/ssl_.py\u001b[0m in \u001b[0;36mssl_wrap_socket\u001b[0;34m(sock, keyfile, certfile, cert_reqs, ca_certs, server_hostname, ssl_version, ciphers, ssl_context, ca_cert_dir, key_password, ca_cert_data, tls_in_tls)\u001b[0m\n\u001b[1;32m    448\u001b[0m     \u001b[0;32mif\u001b[0m \u001b[0msend_sni\u001b[0m\u001b[0;34m:\u001b[0m\u001b[0;34m\u001b[0m\u001b[0;34m\u001b[0m\u001b[0m\n\u001b[0;32m--> 449\u001b[0;31m         ssl_sock = _ssl_wrap_socket_impl(\n\u001b[0m\u001b[1;32m    450\u001b[0m             \u001b[0msock\u001b[0m\u001b[0;34m,\u001b[0m \u001b[0mcontext\u001b[0m\u001b[0;34m,\u001b[0m \u001b[0mtls_in_tls\u001b[0m\u001b[0;34m,\u001b[0m \u001b[0mserver_hostname\u001b[0m\u001b[0;34m=\u001b[0m\u001b[0mserver_hostname\u001b[0m\u001b[0;34m\u001b[0m\u001b[0;34m\u001b[0m\u001b[0m\n",
      "\u001b[0;32m~/opt/anaconda3/lib/python3.9/site-packages/urllib3/util/ssl_.py\u001b[0m in \u001b[0;36m_ssl_wrap_socket_impl\u001b[0;34m(sock, ssl_context, tls_in_tls, server_hostname)\u001b[0m\n\u001b[1;32m    492\u001b[0m     \u001b[0;32mif\u001b[0m \u001b[0mserver_hostname\u001b[0m\u001b[0;34m:\u001b[0m\u001b[0;34m\u001b[0m\u001b[0;34m\u001b[0m\u001b[0m\n\u001b[0;32m--> 493\u001b[0;31m         \u001b[0;32mreturn\u001b[0m \u001b[0mssl_context\u001b[0m\u001b[0;34m.\u001b[0m\u001b[0mwrap_socket\u001b[0m\u001b[0;34m(\u001b[0m\u001b[0msock\u001b[0m\u001b[0;34m,\u001b[0m \u001b[0mserver_hostname\u001b[0m\u001b[0;34m=\u001b[0m\u001b[0mserver_hostname\u001b[0m\u001b[0;34m)\u001b[0m\u001b[0;34m\u001b[0m\u001b[0;34m\u001b[0m\u001b[0m\n\u001b[0m\u001b[1;32m    494\u001b[0m     \u001b[0;32melse\u001b[0m\u001b[0;34m:\u001b[0m\u001b[0;34m\u001b[0m\u001b[0;34m\u001b[0m\u001b[0m\n",
      "\u001b[0;32m~/opt/anaconda3/lib/python3.9/ssl.py\u001b[0m in \u001b[0;36mwrap_socket\u001b[0;34m(self, sock, server_side, do_handshake_on_connect, suppress_ragged_eofs, server_hostname, session)\u001b[0m\n\u001b[1;32m    499\u001b[0m         \u001b[0;31m# ctx._wrap_socket()\u001b[0m\u001b[0;34m\u001b[0m\u001b[0;34m\u001b[0m\u001b[0m\n\u001b[0;32m--> 500\u001b[0;31m         return self.sslsocket_class._create(\n\u001b[0m\u001b[1;32m    501\u001b[0m             \u001b[0msock\u001b[0m\u001b[0;34m=\u001b[0m\u001b[0msock\u001b[0m\u001b[0;34m,\u001b[0m\u001b[0;34m\u001b[0m\u001b[0;34m\u001b[0m\u001b[0m\n",
      "\u001b[0;32m~/opt/anaconda3/lib/python3.9/ssl.py\u001b[0m in \u001b[0;36m_create\u001b[0;34m(cls, sock, server_side, do_handshake_on_connect, suppress_ragged_eofs, server_hostname, context, session)\u001b[0m\n\u001b[1;32m   1039\u001b[0m                         \u001b[0;32mraise\u001b[0m \u001b[0mValueError\u001b[0m\u001b[0;34m(\u001b[0m\u001b[0;34m\"do_handshake_on_connect should not be specified for non-blocking sockets\"\u001b[0m\u001b[0;34m)\u001b[0m\u001b[0;34m\u001b[0m\u001b[0;34m\u001b[0m\u001b[0m\n\u001b[0;32m-> 1040\u001b[0;31m                     \u001b[0mself\u001b[0m\u001b[0;34m.\u001b[0m\u001b[0mdo_handshake\u001b[0m\u001b[0;34m(\u001b[0m\u001b[0;34m)\u001b[0m\u001b[0;34m\u001b[0m\u001b[0;34m\u001b[0m\u001b[0m\n\u001b[0m\u001b[1;32m   1041\u001b[0m             \u001b[0;32mexcept\u001b[0m \u001b[0;34m(\u001b[0m\u001b[0mOSError\u001b[0m\u001b[0;34m,\u001b[0m \u001b[0mValueError\u001b[0m\u001b[0;34m)\u001b[0m\u001b[0;34m:\u001b[0m\u001b[0;34m\u001b[0m\u001b[0;34m\u001b[0m\u001b[0m\n",
      "\u001b[0;32m~/opt/anaconda3/lib/python3.9/ssl.py\u001b[0m in \u001b[0;36mdo_handshake\u001b[0;34m(self, block)\u001b[0m\n\u001b[1;32m   1308\u001b[0m                 \u001b[0mself\u001b[0m\u001b[0;34m.\u001b[0m\u001b[0msettimeout\u001b[0m\u001b[0;34m(\u001b[0m\u001b[0;32mNone\u001b[0m\u001b[0;34m)\u001b[0m\u001b[0;34m\u001b[0m\u001b[0;34m\u001b[0m\u001b[0m\n\u001b[0;32m-> 1309\u001b[0;31m             \u001b[0mself\u001b[0m\u001b[0;34m.\u001b[0m\u001b[0m_sslobj\u001b[0m\u001b[0;34m.\u001b[0m\u001b[0mdo_handshake\u001b[0m\u001b[0;34m(\u001b[0m\u001b[0;34m)\u001b[0m\u001b[0;34m\u001b[0m\u001b[0;34m\u001b[0m\u001b[0m\n\u001b[0m\u001b[1;32m   1310\u001b[0m         \u001b[0;32mfinally\u001b[0m\u001b[0;34m:\u001b[0m\u001b[0;34m\u001b[0m\u001b[0;34m\u001b[0m\u001b[0m\n",
      "\u001b[0;31mProtocolError\u001b[0m: ('Connection aborted.', TimeoutError(60, 'Operation timed out'))",
      "\nDuring handling of the above exception, another exception occurred:\n",
      "\u001b[0;31mConnectionError\u001b[0m                           Traceback (most recent call last)",
      "\u001b[0;32m/var/folders/7m/n2zn61593k18rvyz907d2skc0000gn/T/ipykernel_33676/3498407019.py\u001b[0m in \u001b[0;36m<module>\u001b[0;34m\u001b[0m\n\u001b[1;32m      1\u001b[0m \u001b[0mACCOUNTANTS\u001b[0m \u001b[0;34m=\u001b[0m \u001b[0;34m[\u001b[0m\u001b[0;34m]\u001b[0m\u001b[0;34m\u001b[0m\u001b[0;34m\u001b[0m\u001b[0m\n\u001b[1;32m      2\u001b[0m \u001b[0;32mfor\u001b[0m \u001b[0mi\u001b[0m\u001b[0;34m,\u001b[0m \u001b[0mx\u001b[0m \u001b[0;32min\u001b[0m \u001b[0menumerate\u001b[0m\u001b[0;34m(\u001b[0m\u001b[0mwebpages\u001b[0m\u001b[0;34m)\u001b[0m\u001b[0;34m:\u001b[0m\u001b[0;34m\u001b[0m\u001b[0;34m\u001b[0m\u001b[0m\n\u001b[0;32m----> 3\u001b[0;31m     \u001b[0mtemp\u001b[0m \u001b[0;34m=\u001b[0m \u001b[0mrequests\u001b[0m\u001b[0;34m.\u001b[0m\u001b[0mget\u001b[0m\u001b[0;34m(\u001b[0m\u001b[0mx\u001b[0m\u001b[0;34m)\u001b[0m\u001b[0;34m\u001b[0m\u001b[0;34m\u001b[0m\u001b[0m\n\u001b[0m\u001b[1;32m      4\u001b[0m     \u001b[0malst\u001b[0m \u001b[0;34m=\u001b[0m \u001b[0mprocess_accountants\u001b[0m\u001b[0;34m(\u001b[0m\u001b[0mtemp\u001b[0m\u001b[0;34m.\u001b[0m\u001b[0mtext\u001b[0m\u001b[0;34m)\u001b[0m\u001b[0;34m\u001b[0m\u001b[0;34m\u001b[0m\u001b[0m\n\u001b[1;32m      5\u001b[0m     \u001b[0mACCOUNTANTS\u001b[0m \u001b[0;34m+=\u001b[0m \u001b[0malst\u001b[0m\u001b[0;34m\u001b[0m\u001b[0;34m\u001b[0m\u001b[0m\n",
      "\u001b[0;32m~/opt/anaconda3/lib/python3.9/site-packages/requests/api.py\u001b[0m in \u001b[0;36mget\u001b[0;34m(url, params, **kwargs)\u001b[0m\n\u001b[1;32m     73\u001b[0m     \"\"\"\n\u001b[1;32m     74\u001b[0m \u001b[0;34m\u001b[0m\u001b[0m\n\u001b[0;32m---> 75\u001b[0;31m     \u001b[0;32mreturn\u001b[0m \u001b[0mrequest\u001b[0m\u001b[0;34m(\u001b[0m\u001b[0;34m'get'\u001b[0m\u001b[0;34m,\u001b[0m \u001b[0murl\u001b[0m\u001b[0;34m,\u001b[0m \u001b[0mparams\u001b[0m\u001b[0;34m=\u001b[0m\u001b[0mparams\u001b[0m\u001b[0;34m,\u001b[0m \u001b[0;34m**\u001b[0m\u001b[0mkwargs\u001b[0m\u001b[0;34m)\u001b[0m\u001b[0;34m\u001b[0m\u001b[0;34m\u001b[0m\u001b[0m\n\u001b[0m\u001b[1;32m     76\u001b[0m \u001b[0;34m\u001b[0m\u001b[0m\n\u001b[1;32m     77\u001b[0m \u001b[0;34m\u001b[0m\u001b[0m\n",
      "\u001b[0;32m~/opt/anaconda3/lib/python3.9/site-packages/requests/api.py\u001b[0m in \u001b[0;36mrequest\u001b[0;34m(method, url, **kwargs)\u001b[0m\n\u001b[1;32m     59\u001b[0m     \u001b[0;31m# cases, and look like a memory leak in others.\u001b[0m\u001b[0;34m\u001b[0m\u001b[0;34m\u001b[0m\u001b[0m\n\u001b[1;32m     60\u001b[0m     \u001b[0;32mwith\u001b[0m \u001b[0msessions\u001b[0m\u001b[0;34m.\u001b[0m\u001b[0mSession\u001b[0m\u001b[0;34m(\u001b[0m\u001b[0;34m)\u001b[0m \u001b[0;32mas\u001b[0m \u001b[0msession\u001b[0m\u001b[0;34m:\u001b[0m\u001b[0;34m\u001b[0m\u001b[0;34m\u001b[0m\u001b[0m\n\u001b[0;32m---> 61\u001b[0;31m         \u001b[0;32mreturn\u001b[0m \u001b[0msession\u001b[0m\u001b[0;34m.\u001b[0m\u001b[0mrequest\u001b[0m\u001b[0;34m(\u001b[0m\u001b[0mmethod\u001b[0m\u001b[0;34m=\u001b[0m\u001b[0mmethod\u001b[0m\u001b[0;34m,\u001b[0m \u001b[0murl\u001b[0m\u001b[0;34m=\u001b[0m\u001b[0murl\u001b[0m\u001b[0;34m,\u001b[0m \u001b[0;34m**\u001b[0m\u001b[0mkwargs\u001b[0m\u001b[0;34m)\u001b[0m\u001b[0;34m\u001b[0m\u001b[0;34m\u001b[0m\u001b[0m\n\u001b[0m\u001b[1;32m     62\u001b[0m \u001b[0;34m\u001b[0m\u001b[0m\n\u001b[1;32m     63\u001b[0m \u001b[0;34m\u001b[0m\u001b[0m\n",
      "\u001b[0;32m~/opt/anaconda3/lib/python3.9/site-packages/requests/sessions.py\u001b[0m in \u001b[0;36mrequest\u001b[0;34m(self, method, url, params, data, headers, cookies, files, auth, timeout, allow_redirects, proxies, hooks, stream, verify, cert, json)\u001b[0m\n\u001b[1;32m    540\u001b[0m         }\n\u001b[1;32m    541\u001b[0m         \u001b[0msend_kwargs\u001b[0m\u001b[0;34m.\u001b[0m\u001b[0mupdate\u001b[0m\u001b[0;34m(\u001b[0m\u001b[0msettings\u001b[0m\u001b[0;34m)\u001b[0m\u001b[0;34m\u001b[0m\u001b[0;34m\u001b[0m\u001b[0m\n\u001b[0;32m--> 542\u001b[0;31m         \u001b[0mresp\u001b[0m \u001b[0;34m=\u001b[0m \u001b[0mself\u001b[0m\u001b[0;34m.\u001b[0m\u001b[0msend\u001b[0m\u001b[0;34m(\u001b[0m\u001b[0mprep\u001b[0m\u001b[0;34m,\u001b[0m \u001b[0;34m**\u001b[0m\u001b[0msend_kwargs\u001b[0m\u001b[0;34m)\u001b[0m\u001b[0;34m\u001b[0m\u001b[0;34m\u001b[0m\u001b[0m\n\u001b[0m\u001b[1;32m    543\u001b[0m \u001b[0;34m\u001b[0m\u001b[0m\n\u001b[1;32m    544\u001b[0m         \u001b[0;32mreturn\u001b[0m \u001b[0mresp\u001b[0m\u001b[0;34m\u001b[0m\u001b[0;34m\u001b[0m\u001b[0m\n",
      "\u001b[0;32m~/opt/anaconda3/lib/python3.9/site-packages/requests/sessions.py\u001b[0m in \u001b[0;36msend\u001b[0;34m(self, request, **kwargs)\u001b[0m\n\u001b[1;32m    653\u001b[0m \u001b[0;34m\u001b[0m\u001b[0m\n\u001b[1;32m    654\u001b[0m         \u001b[0;31m# Send the request\u001b[0m\u001b[0;34m\u001b[0m\u001b[0;34m\u001b[0m\u001b[0m\n\u001b[0;32m--> 655\u001b[0;31m         \u001b[0mr\u001b[0m \u001b[0;34m=\u001b[0m \u001b[0madapter\u001b[0m\u001b[0;34m.\u001b[0m\u001b[0msend\u001b[0m\u001b[0;34m(\u001b[0m\u001b[0mrequest\u001b[0m\u001b[0;34m,\u001b[0m \u001b[0;34m**\u001b[0m\u001b[0mkwargs\u001b[0m\u001b[0;34m)\u001b[0m\u001b[0;34m\u001b[0m\u001b[0;34m\u001b[0m\u001b[0m\n\u001b[0m\u001b[1;32m    656\u001b[0m \u001b[0;34m\u001b[0m\u001b[0m\n\u001b[1;32m    657\u001b[0m         \u001b[0;31m# Total elapsed time of the request (approximately)\u001b[0m\u001b[0;34m\u001b[0m\u001b[0;34m\u001b[0m\u001b[0m\n",
      "\u001b[0;32m~/opt/anaconda3/lib/python3.9/site-packages/requests/adapters.py\u001b[0m in \u001b[0;36msend\u001b[0;34m(self, request, stream, timeout, verify, cert, proxies)\u001b[0m\n\u001b[1;32m    496\u001b[0m \u001b[0;34m\u001b[0m\u001b[0m\n\u001b[1;32m    497\u001b[0m         \u001b[0;32mexcept\u001b[0m \u001b[0;34m(\u001b[0m\u001b[0mProtocolError\u001b[0m\u001b[0;34m,\u001b[0m \u001b[0msocket\u001b[0m\u001b[0;34m.\u001b[0m\u001b[0merror\u001b[0m\u001b[0;34m)\u001b[0m \u001b[0;32mas\u001b[0m \u001b[0merr\u001b[0m\u001b[0;34m:\u001b[0m\u001b[0;34m\u001b[0m\u001b[0;34m\u001b[0m\u001b[0m\n\u001b[0;32m--> 498\u001b[0;31m             \u001b[0;32mraise\u001b[0m \u001b[0mConnectionError\u001b[0m\u001b[0;34m(\u001b[0m\u001b[0merr\u001b[0m\u001b[0;34m,\u001b[0m \u001b[0mrequest\u001b[0m\u001b[0;34m=\u001b[0m\u001b[0mrequest\u001b[0m\u001b[0;34m)\u001b[0m\u001b[0;34m\u001b[0m\u001b[0;34m\u001b[0m\u001b[0m\n\u001b[0m\u001b[1;32m    499\u001b[0m \u001b[0;34m\u001b[0m\u001b[0m\n\u001b[1;32m    500\u001b[0m         \u001b[0;32mexcept\u001b[0m \u001b[0mMaxRetryError\u001b[0m \u001b[0;32mas\u001b[0m \u001b[0me\u001b[0m\u001b[0;34m:\u001b[0m\u001b[0;34m\u001b[0m\u001b[0;34m\u001b[0m\u001b[0m\n",
      "\u001b[0;31mConnectionError\u001b[0m: ('Connection aborted.', TimeoutError(60, 'Operation timed out'))"
     ]
    }
   ],
   "source": [
    "ACCOUNTANTS = []\n",
    "for i, x in enumerate(webpages):\n",
    "    temp = requests.get(x)\n",
    "    alst = process_accountants(temp.text)\n",
    "    ACCOUNTANTS += alst"
   ]
  },
  {
   "cell_type": "code",
   "execution_count": null,
   "id": "2139e4b2",
   "metadata": {},
   "outputs": [],
   "source": [
    "pd.Series(JUDGES).unique()"
   ]
  },
  {
   "cell_type": "code",
   "execution_count": null,
   "id": "7b3ffca6",
   "metadata": {},
   "outputs": [],
   "source": [
    "pd.Series(REFEREES).unique()"
   ]
  },
  {
   "cell_type": "code",
   "execution_count": null,
   "id": "3c63f315",
   "metadata": {},
   "outputs": [],
   "source": [
    "pd.Series(ACCOUNTANTS).unique()"
   ]
  }
 ],
 "metadata": {
  "kernelspec": {
   "display_name": "Python 3 (ipykernel)",
   "language": "python",
   "name": "python3"
  },
  "language_info": {
   "codemirror_mode": {
    "name": "ipython",
    "version": 3
   },
   "file_extension": ".py",
   "mimetype": "text/x-python",
   "name": "python",
   "nbconvert_exporter": "python",
   "pygments_lexer": "ipython3",
   "version": "3.9.7"
  }
 },
 "nbformat": 4,
 "nbformat_minor": 5
}
