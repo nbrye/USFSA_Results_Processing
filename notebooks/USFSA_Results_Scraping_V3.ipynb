{
 "cells": [
  {
   "cell_type": "markdown",
   "id": "3b0770dd",
   "metadata": {},
   "source": [
    "## USFSA Results Scraping"
   ]
  },
  {
   "cell_type": "markdown",
   "id": "d9ff4254",
   "metadata": {},
   "source": [
    "### Part 1: Scraping the Webpages"
   ]
  },
  {
   "cell_type": "markdown",
   "id": "a7fc1843",
   "metadata": {},
   "source": [
    "#### Imports"
   ]
  },
  {
   "cell_type": "code",
   "execution_count": 26,
   "id": "559e25cf",
   "metadata": {},
   "outputs": [],
   "source": [
    "import pandas as pd\n",
    "import requests\n",
    "import bs4"
   ]
  },
  {
   "cell_type": "markdown",
   "id": "2b78d678",
   "metadata": {},
   "source": [
    "#### Create a get request for the main URL"
   ]
  },
  {
   "cell_type": "code",
   "execution_count": 2,
   "id": "40661c0e",
   "metadata": {},
   "outputs": [],
   "source": [
    "urls = {'2023-nationals': \n",
    "        'https://ijs.usfigureskating.org/leaderboard/nonqual_results/2023/32002/index.html',\n",
    "        \n",
    "        '2023-ride-the-tide': \n",
    "        'https://ijs.usfigureskating.org/leaderboard/nonqual_results/2022/32006/index.html',\n",
    "        \n",
    "        '2023-golden-bear-skate':\n",
    "        'https://ijs.usfigureskating.org/leaderboard/nonqual_results/2022/32004/index.html',\n",
    "        \n",
    "        '2022-pioneer-open':\n",
    "        'https://ijs.usfigureskating.org/leaderboard/nonqual_results/2022/32007/index.html',\n",
    "       }"
   ]
  },
  {
   "cell_type": "code",
   "execution_count": 3,
   "id": "62c07e6f",
   "metadata": {},
   "outputs": [],
   "source": [
    "# Change url to the competition of choice from the above dictionary\n",
    "main_url = urls['2023-ride-the-tide']\n",
    "request  = requests.get(main_url)"
   ]
  },
  {
   "cell_type": "code",
   "execution_count": 4,
   "id": "27aef8c6",
   "metadata": {},
   "outputs": [],
   "source": [
    "# Global Variables\n",
    "soup   = bs4.BeautifulSoup(request.text)\n",
    "events = soup.find_all(\"td\", attrs = {\"rowspan\": 1})\n",
    "links  = soup.find_all(\"td\", attrs = {\"class\": \"cm rb\"})"
   ]
  },
  {
   "cell_type": "code",
   "execution_count": 5,
   "id": "d0689546",
   "metadata": {},
   "outputs": [],
   "source": [
    "baseurl = main_url.replace(\"index.html\", \"\")\n",
    "\n",
    "# Helper function to extract links\n",
    "def extract_link(x):\n",
    "    return x.find(\"a\")[\"href\"]\n",
    "\n",
    "# Extract the url ends for each webpage\n",
    "ends = list(map(extract_link, links))\n",
    "\n",
    "# Request urls for each webpage\n",
    "webpages = [baseurl + i for i in ends]\n",
    "    "
   ]
  },
  {
   "cell_type": "markdown",
   "id": "2f070b9a",
   "metadata": {},
   "source": [
    "#### Function for processing one results page"
   ]
  },
  {
   "cell_type": "code",
   "execution_count": 6,
   "id": "fc138aae",
   "metadata": {},
   "outputs": [],
   "source": [
    "# Function to parse each results page\n",
    "def parse_results(html, team = False):\n",
    "    \n",
    "    '''\n",
    "    Takes an html text object containing the results of\n",
    "    one group\n",
    "    \n",
    "    :params html: html text\n",
    "    :returns: A DataFrame containing the place and university\n",
    "    for each start\n",
    "    '''\n",
    "    \n",
    "    # Create a soup object and extract the rows of the results table\n",
    "    soup = bs4.BeautifulSoup(html.text)\n",
    "    res  = soup.find_all(\"td\", attrs = {\"colspan\":1})\n",
    "    rows = soup.find_all(\"tr\")\n",
    "    rows = [x for x in rows if (len(x.find_all(\"td\")) == 9 or len(x.find_all(\"td\")) == 7)]\n",
    "    \n",
    "    # Extract the University names from each page\n",
    "    out = []\n",
    "    for i, x in enumerate(res):\n",
    "        if team:\n",
    "            uni = x.text\n",
    "        else:\n",
    "            uni = x.text.split(\", \")[-1]\n",
    "        out.append([rows[i].find(\"td\").text, uni, rows[i].find_all(\"td\")[-1].text])\n",
    "        \n",
    "    return pd.DataFrame(out, columns = [\"Place\", \"College\", \"Tie\"])"
   ]
  },
  {
   "cell_type": "markdown",
   "id": "e481b1af",
   "metadata": {},
   "source": [
    "#### Loop through each page and extract the data"
   ]
  },
  {
   "cell_type": "code",
   "execution_count": 7,
   "id": "d6e35a8a",
   "metadata": {},
   "outputs": [],
   "source": [
    "DFS = []\n",
    "for i, x in enumerate(webpages):\n",
    "    temp = requests.get(x)\n",
    "    try:\n",
    "        data = parse_results(temp)\n",
    "        data = data.loc[~data[\"Tie\"].str.contains(\"Withdraw\")]\n",
    "        DFS.append(data)\n",
    "    except:\n",
    "        pass   "
   ]
  },
  {
   "cell_type": "markdown",
   "id": "37c5d3e6",
   "metadata": {},
   "source": [
    "### Part 2: Calculating the points awarded for each event"
   ]
  },
  {
   "cell_type": "code",
   "execution_count": 8,
   "id": "3f4d8eb9",
   "metadata": {},
   "outputs": [],
   "source": [
    "lookup = {24: [12, 11, 10, 9, 8, 7, 6, 5, 4, 3, 2, 1, 1, 1, 1, 1, 1, 1, 1, 1, 1, 1, 1, 1],\n",
    "          23: [12, 11, 10, 9, 8, 7, 6, 5, 4, 3, 2, 1, 1, 1, 1, 1, 1, 1, 1, 1, 1, 1, 1],\n",
    "          22: [12, 11, 10, 9, 8, 7, 6, 5, 4, 3, 2, 1, 1, 1, 1, 1, 1, 1, 1, 1, 1, 1],\n",
    "          21: [12, 11, 10, 9, 8, 7, 6, 5, 4, 3, 2, 1, 1, 1, 1, 1, 1, 1, 1, 1, 1],\n",
    "          20: [12, 11, 10, 9, 8, 7, 6, 5, 4, 3, 2, 1, 1, 1, 1, 1, 1, 1, 1, 1],\n",
    "          19: [12, 11, 10, 9, 8, 7, 6, 5, 4, 3, 2, 1, 1, 1, 1, 1, 1, 1, 1],\n",
    "          18: [12, 11, 10, 9, 8, 7, 6, 5, 4, 3, 2, 1, 1, 1, 1, 1, 1, 1],\n",
    "          17: [12, 11, 10, 9, 8, 7, 6, 5, 4, 3, 2, 1, 1, 1, 1, 1, 1],\n",
    "          16: [12, 11, 10, 9, 8, 7, 6, 5, 4, 3, 2, 1, 1, 1, 1, 1],\n",
    "          15: [12, 11, 10, 9, 8, 7, 6, 5, 4, 3, 2, 1, 1, 1, 1],\n",
    "          14: [12, 11, 10, 9, 8, 7, 6, 5, 4, 3, 2, 1, 1, 1],\n",
    "          13: [12, 11, 10, 9, 8, 7, 6, 5, 4, 3, 2, 1, 1],\n",
    "          12: [12, 11, 10, 9, 8, 7, 6, 5, 4, 3, 2, 1],\n",
    "          11: [12, 10, 9, 8, 7, 6, 5, 4, 3, 2, 1],\n",
    "          10: [12, 10, 8, 7, 6, 5, 4, 3, 2, 1],\n",
    "          9: [12, 10, 8, 6, 5, 4, 3, 2, 1],\n",
    "          8: [12, 10, 8, 6, 4, 3, 2, 1],\n",
    "          7: [12, 10, 8, 6, 4, 2, 1],\n",
    "          6: [12, 10, 8, 6, 4, 2],\n",
    "          5: [10, 8, 6, 4, 2],\n",
    "          4: [8, 6, 4, 2],\n",
    "          3: [6, 4, 2],\n",
    "          2: [6, 4],\n",
    "          1: [6]\n",
    "         }"
   ]
  },
  {
   "cell_type": "code",
   "execution_count": 9,
   "id": "f05d2c07",
   "metadata": {},
   "outputs": [],
   "source": [
    "OUT = []\n",
    "for i, x in enumerate(DFS):\n",
    "    num = len(x)\n",
    "    \n",
    "    # Assign a number of points to each column\n",
    "    x = x.assign(points = lookup[num])\n",
    "\n",
    "    # Handle ties\n",
    "    temp = x.groupby(\"Place\")[\"points\"].transform(lambda x: x.mean())\n",
    "    x = x.assign(points = temp)\n",
    "    \n",
    "    # Handle championship event edge case\n",
    "    if \"Championship\" in events[i].text or \"International\" in events[i].text:\n",
    "        x[\"points\"] = x[\"points\"] + 2\n",
    "    \n",
    "    OUT.append(x)"
   ]
  },
  {
   "cell_type": "code",
   "execution_count": 10,
   "id": "d2154eb8",
   "metadata": {},
   "outputs": [],
   "source": [
    "FULL = pd.concat(OUT)\n",
    "\n",
    "# Eliminate the error where it says 'U' instead of 'University'\n",
    "# Keep in mind there are still a few errors with the names of the colleges\n",
    "# that I have not fixed yet\n",
    "import re\n",
    "FULL['College'] = FULL['College'].apply(lambda x: re.sub('^U ', 'University ', x))\n",
    "FULL['College'] = FULL['College'].apply(lambda x: re.sub(' U$', ' University', x))"
   ]
  },
  {
   "cell_type": "markdown",
   "id": "7ff44623",
   "metadata": {},
   "source": [
    "#### Team Standings"
   ]
  },
  {
   "cell_type": "code",
   "execution_count": 11,
   "id": "e241490e",
   "metadata": {
    "scrolled": true
   },
   "outputs": [
    {
     "data": {
      "text/plain": [
       "College\n",
       "University of Denver                 245.0\n",
       "University of CA - Berkeley          234.0\n",
       "University of CA - San Diego         213.5\n",
       "University of CO - Boulder           203.0\n",
       "University of CA - Los Angeles       197.0\n",
       "University of Washington             141.0\n",
       "Arizona State University             131.0\n",
       "Stanford University                  104.5\n",
       "Colorado State Univer...              80.0\n",
       "Utah State University                 73.0\n",
       "Colorado College                      60.5\n",
       "University of CO - Colorado Sp...     58.0\n",
       "Western Washington Un...              58.0\n",
       "University of Souther...              57.5\n",
       "University of CA - Davis              45.5\n",
       "University of CA - Santa Barbara      42.0\n",
       "University of Norther...              21.5\n",
       "University of CA - Irvine             21.0\n",
       "Colorado State University             19.0\n",
       "University of CO - Colo. Springs      18.0\n",
       "University of Southern California     15.0\n",
       "University of Wyoming                 14.0\n",
       "Western Washington University         12.0\n",
       "Univesity of Wyoming                   8.0\n",
       "Name: points, dtype: float64"
      ]
     },
     "execution_count": 11,
     "metadata": {},
     "output_type": "execute_result"
    }
   ],
   "source": [
    "A = FULL.groupby(\"College\")[\"points\"].sum().sort_values(ascending = False)\n",
    "A"
   ]
  },
  {
   "cell_type": "markdown",
   "id": "b09a02ce",
   "metadata": {},
   "source": [
    "#### Number of Starts per Team"
   ]
  },
  {
   "cell_type": "code",
   "execution_count": 12,
   "id": "20873d16",
   "metadata": {},
   "outputs": [
    {
     "data": {
      "text/plain": [
       "College\n",
       "University of CO - Boulder           30\n",
       "University of CA - Berkeley          30\n",
       "University of Denver                 30\n",
       "University of CA - San Diego         30\n",
       "University of CA - Los Angeles       28\n",
       "Arizona State University             25\n",
       "Stanford University                  22\n",
       "Colorado State Univer...             20\n",
       "University of Washington             19\n",
       "Colorado College                     14\n",
       "University of CO - Colorado Sp...    13\n",
       "Western Washington Un...             13\n",
       "University of Souther...             12\n",
       "Utah State University                11\n",
       "University of CA - Davis             10\n",
       "University of CA - Santa Barbara      8\n",
       "University of CA - Irvine             5\n",
       "University of Norther...              5\n",
       "University of Wyoming                 5\n",
       "University of Southern California     3\n",
       "Colorado State University             3\n",
       "University of CO - Colo. Springs      2\n",
       "Univesity of Wyoming                  1\n",
       "Western Washington University         1\n",
       "Name: Place, dtype: int64"
      ]
     },
     "execution_count": 12,
     "metadata": {},
     "output_type": "execute_result"
    }
   ],
   "source": [
    "B = FULL.groupby(\"College\").count()[\"Place\"].sort_values(ascending=False)\n",
    "B"
   ]
  },
  {
   "cell_type": "markdown",
   "id": "16f61510",
   "metadata": {},
   "source": [
    "#### Points per start ratio"
   ]
  },
  {
   "cell_type": "code",
   "execution_count": 13,
   "id": "a871ca67",
   "metadata": {
    "scrolled": true
   },
   "outputs": [
    {
     "data": {
      "text/html": [
       "<div>\n",
       "<style scoped>\n",
       "    .dataframe tbody tr th:only-of-type {\n",
       "        vertical-align: middle;\n",
       "    }\n",
       "\n",
       "    .dataframe tbody tr th {\n",
       "        vertical-align: top;\n",
       "    }\n",
       "\n",
       "    .dataframe thead th {\n",
       "        text-align: right;\n",
       "    }\n",
       "</style>\n",
       "<table border=\"1\" class=\"dataframe\">\n",
       "  <thead>\n",
       "    <tr style=\"text-align: right;\">\n",
       "      <th></th>\n",
       "      <th>Points</th>\n",
       "      <th>Number of Starts</th>\n",
       "      <th>Ratio</th>\n",
       "    </tr>\n",
       "    <tr>\n",
       "      <th>College</th>\n",
       "      <th></th>\n",
       "      <th></th>\n",
       "      <th></th>\n",
       "    </tr>\n",
       "  </thead>\n",
       "  <tbody>\n",
       "    <tr>\n",
       "      <th>Western Washington University</th>\n",
       "      <td>12.0</td>\n",
       "      <td>1</td>\n",
       "      <td>12.000000</td>\n",
       "    </tr>\n",
       "    <tr>\n",
       "      <th>University of CO - Colo. Springs</th>\n",
       "      <td>18.0</td>\n",
       "      <td>2</td>\n",
       "      <td>9.000000</td>\n",
       "    </tr>\n",
       "    <tr>\n",
       "      <th>University of Denver</th>\n",
       "      <td>245.0</td>\n",
       "      <td>30</td>\n",
       "      <td>8.166667</td>\n",
       "    </tr>\n",
       "    <tr>\n",
       "      <th>Univesity of Wyoming</th>\n",
       "      <td>8.0</td>\n",
       "      <td>1</td>\n",
       "      <td>8.000000</td>\n",
       "    </tr>\n",
       "    <tr>\n",
       "      <th>University of CA - Berkeley</th>\n",
       "      <td>234.0</td>\n",
       "      <td>30</td>\n",
       "      <td>7.800000</td>\n",
       "    </tr>\n",
       "    <tr>\n",
       "      <th>University of Washington</th>\n",
       "      <td>141.0</td>\n",
       "      <td>19</td>\n",
       "      <td>7.421053</td>\n",
       "    </tr>\n",
       "    <tr>\n",
       "      <th>University of CA - San Diego</th>\n",
       "      <td>213.5</td>\n",
       "      <td>30</td>\n",
       "      <td>7.116667</td>\n",
       "    </tr>\n",
       "    <tr>\n",
       "      <th>University of CA - Los Angeles</th>\n",
       "      <td>197.0</td>\n",
       "      <td>28</td>\n",
       "      <td>7.035714</td>\n",
       "    </tr>\n",
       "    <tr>\n",
       "      <th>University of CO - Boulder</th>\n",
       "      <td>203.0</td>\n",
       "      <td>30</td>\n",
       "      <td>6.766667</td>\n",
       "    </tr>\n",
       "    <tr>\n",
       "      <th>Utah State University</th>\n",
       "      <td>73.0</td>\n",
       "      <td>11</td>\n",
       "      <td>6.636364</td>\n",
       "    </tr>\n",
       "    <tr>\n",
       "      <th>Colorado State University</th>\n",
       "      <td>19.0</td>\n",
       "      <td>3</td>\n",
       "      <td>6.333333</td>\n",
       "    </tr>\n",
       "    <tr>\n",
       "      <th>University of CA - Santa Barbara</th>\n",
       "      <td>42.0</td>\n",
       "      <td>8</td>\n",
       "      <td>5.250000</td>\n",
       "    </tr>\n",
       "    <tr>\n",
       "      <th>Arizona State University</th>\n",
       "      <td>131.0</td>\n",
       "      <td>25</td>\n",
       "      <td>5.240000</td>\n",
       "    </tr>\n",
       "    <tr>\n",
       "      <th>University of Southern California</th>\n",
       "      <td>15.0</td>\n",
       "      <td>3</td>\n",
       "      <td>5.000000</td>\n",
       "    </tr>\n",
       "    <tr>\n",
       "      <th>University of Souther...</th>\n",
       "      <td>57.5</td>\n",
       "      <td>12</td>\n",
       "      <td>4.791667</td>\n",
       "    </tr>\n",
       "    <tr>\n",
       "      <th>Stanford University</th>\n",
       "      <td>104.5</td>\n",
       "      <td>22</td>\n",
       "      <td>4.750000</td>\n",
       "    </tr>\n",
       "    <tr>\n",
       "      <th>University of CA - Davis</th>\n",
       "      <td>45.5</td>\n",
       "      <td>10</td>\n",
       "      <td>4.550000</td>\n",
       "    </tr>\n",
       "    <tr>\n",
       "      <th>University of CO - Colorado Sp...</th>\n",
       "      <td>58.0</td>\n",
       "      <td>13</td>\n",
       "      <td>4.461538</td>\n",
       "    </tr>\n",
       "    <tr>\n",
       "      <th>Western Washington Un...</th>\n",
       "      <td>58.0</td>\n",
       "      <td>13</td>\n",
       "      <td>4.461538</td>\n",
       "    </tr>\n",
       "    <tr>\n",
       "      <th>Colorado College</th>\n",
       "      <td>60.5</td>\n",
       "      <td>14</td>\n",
       "      <td>4.321429</td>\n",
       "    </tr>\n",
       "    <tr>\n",
       "      <th>University of Norther...</th>\n",
       "      <td>21.5</td>\n",
       "      <td>5</td>\n",
       "      <td>4.300000</td>\n",
       "    </tr>\n",
       "    <tr>\n",
       "      <th>University of CA - Irvine</th>\n",
       "      <td>21.0</td>\n",
       "      <td>5</td>\n",
       "      <td>4.200000</td>\n",
       "    </tr>\n",
       "    <tr>\n",
       "      <th>Colorado State Univer...</th>\n",
       "      <td>80.0</td>\n",
       "      <td>20</td>\n",
       "      <td>4.000000</td>\n",
       "    </tr>\n",
       "    <tr>\n",
       "      <th>University of Wyoming</th>\n",
       "      <td>14.0</td>\n",
       "      <td>5</td>\n",
       "      <td>2.800000</td>\n",
       "    </tr>\n",
       "  </tbody>\n",
       "</table>\n",
       "</div>"
      ],
      "text/plain": [
       "                                   Points  Number of Starts      Ratio\n",
       "College                                                               \n",
       "Western Washington University        12.0                 1  12.000000\n",
       "University of CO - Colo. Springs     18.0                 2   9.000000\n",
       "University of Denver                245.0                30   8.166667\n",
       "Univesity of Wyoming                  8.0                 1   8.000000\n",
       "University of CA - Berkeley         234.0                30   7.800000\n",
       "University of Washington            141.0                19   7.421053\n",
       "University of CA - San Diego        213.5                30   7.116667\n",
       "University of CA - Los Angeles      197.0                28   7.035714\n",
       "University of CO - Boulder          203.0                30   6.766667\n",
       "Utah State University                73.0                11   6.636364\n",
       "Colorado State University            19.0                 3   6.333333\n",
       "University of CA - Santa Barbara     42.0                 8   5.250000\n",
       "Arizona State University            131.0                25   5.240000\n",
       "University of Southern California    15.0                 3   5.000000\n",
       "University of Souther...             57.5                12   4.791667\n",
       "Stanford University                 104.5                22   4.750000\n",
       "University of CA - Davis             45.5                10   4.550000\n",
       "University of CO - Colorado Sp...    58.0                13   4.461538\n",
       "Western Washington Un...             58.0                13   4.461538\n",
       "Colorado College                     60.5                14   4.321429\n",
       "University of Norther...             21.5                 5   4.300000\n",
       "University of CA - Irvine            21.0                 5   4.200000\n",
       "Colorado State Univer...             80.0                20   4.000000\n",
       "University of Wyoming                14.0                 5   2.800000"
      ]
     },
     "execution_count": 13,
     "metadata": {},
     "output_type": "execute_result"
    }
   ],
   "source": [
    "C = pd.merge(A.to_frame(), B.to_frame(), left_index=True, right_index=True)\n",
    "C.columns = [\"Points\", \"Number of Starts\"]\n",
    "\n",
    "C[\"Ratio\"] = C[\"Points\"] / C[\"Number of Starts\"]\n",
    "C.sort_values(by=\"Ratio\", ascending = False)"
   ]
  },
  {
   "cell_type": "markdown",
   "id": "1ea5c2ca",
   "metadata": {},
   "source": [
    "#### Number of Starts"
   ]
  },
  {
   "cell_type": "code",
   "execution_count": 14,
   "id": "efcd404b",
   "metadata": {},
   "outputs": [
    {
     "data": {
      "text/plain": [
       "340"
      ]
     },
     "execution_count": 14,
     "metadata": {},
     "output_type": "execute_result"
    }
   ],
   "source": [
    "C[\"Number of Starts\"].sum()"
   ]
  },
  {
   "cell_type": "markdown",
   "id": "c3976fbe",
   "metadata": {},
   "source": [
    "#### To get a general count of how many of each type of official each competition has"
   ]
  },
  {
   "cell_type": "code",
   "execution_count": 15,
   "id": "e1ef52a6",
   "metadata": {},
   "outputs": [],
   "source": [
    "import numpy as np"
   ]
  },
  {
   "cell_type": "code",
   "execution_count": 16,
   "id": "b085c8e3",
   "metadata": {},
   "outputs": [],
   "source": [
    "DFS = []\n",
    "for i, x in enumerate(webpages):\n",
    "    temp = requests.get(x)\n",
    "    "
   ]
  },
  {
   "cell_type": "code",
   "execution_count": 17,
   "id": "538995f0",
   "metadata": {},
   "outputs": [],
   "source": [
    "def process_judges(text):\n",
    "    soup = bs4.BeautifulSoup(text)\n",
    "    tabs = np.array(list(map(lambda x: x.text, soup.find_all('td'))))\n",
    "    offs = tabs[np.where(tabs == 'Judge 1')[0][0]:][1::3][:-1]\n",
    "    return list(offs)"
   ]
  },
  {
   "cell_type": "code",
   "execution_count": 18,
   "id": "667ab9aa",
   "metadata": {},
   "outputs": [],
   "source": [
    "def process_referees(text):\n",
    "    soup = bs4.BeautifulSoup(text)\n",
    "    tabs = tabs = np.array(list(map(lambda x: x.text, soup.find_all('td'))))\n",
    "    refs = tabs[np.where(tabs == 'Referee')[0][0] + 1]\n",
    "    return [refs]"
   ]
  },
  {
   "cell_type": "code",
   "execution_count": 19,
   "id": "2a220fe4",
   "metadata": {},
   "outputs": [],
   "source": [
    "def process_accountants(text):\n",
    "    soup = bs4.BeautifulSoup(text)\n",
    "    tabs = tabs = np.array(list(map(lambda x: x.text, soup.find_all('td'))))\n",
    "    accs = tabs[np.where(tabs == 'Accountant')[0][0] + 1]\n",
    "    return [accs]"
   ]
  },
  {
   "cell_type": "code",
   "execution_count": 20,
   "id": "f4cd895c",
   "metadata": {},
   "outputs": [],
   "source": [
    "JUDGES = []\n",
    "for i, x in enumerate(webpages):\n",
    "    temp = requests.get(x)\n",
    "    jlst = process_judges(temp.text)\n",
    "    JUDGES += jlst"
   ]
  },
  {
   "cell_type": "code",
   "execution_count": 21,
   "id": "0fbb74e3",
   "metadata": {},
   "outputs": [],
   "source": [
    "REFEREES = []\n",
    "for i, x in enumerate(webpages):\n",
    "    temp = requests.get(x)\n",
    "    rlst = process_referees(temp.text)\n",
    "    REFEREES += rlst"
   ]
  },
  {
   "cell_type": "code",
   "execution_count": 22,
   "id": "03300551",
   "metadata": {},
   "outputs": [],
   "source": [
    "ACCOUNTANTS = []\n",
    "for i, x in enumerate(webpages):\n",
    "    temp = requests.get(x)\n",
    "    alst = process_accountants(temp.text)\n",
    "    ACCOUNTANTS += alst"
   ]
  },
  {
   "cell_type": "code",
   "execution_count": 23,
   "id": "2139e4b2",
   "metadata": {},
   "outputs": [
    {
     "data": {
      "text/plain": [
       "array(['Heather Correa', 'Yuu Ohno', 'Rochelle Revor', 'Kim Borzilleri',\n",
       "       'Jill Montgomery', 'Karen Silverman', 'George Rossano*',\n",
       "       'Doug Williams', 'David Hold', 'Stacy Brinkman',\n",
       "       'Stefanie Mathewson', 'Carylyn Landt', 'Michael Ricigliano',\n",
       "       'Caroline Guttman'], dtype=object)"
      ]
     },
     "execution_count": 23,
     "metadata": {},
     "output_type": "execute_result"
    }
   ],
   "source": [
    "pd.Series(JUDGES).unique()"
   ]
  },
  {
   "cell_type": "code",
   "execution_count": 24,
   "id": "7b3ffca6",
   "metadata": {},
   "outputs": [
    {
     "data": {
      "text/plain": [
       "array(['George Rossano*', 'Doug Williams', 'Caroline Guttman',\n",
       "       'Stefanie Mathewson', 'David Hold', 'Michael Ricigliano',\n",
       "       'Carylyn Landt'], dtype=object)"
      ]
     },
     "execution_count": 24,
     "metadata": {},
     "output_type": "execute_result"
    }
   ],
   "source": [
    "pd.Series(REFEREES).unique()"
   ]
  },
  {
   "cell_type": "code",
   "execution_count": 25,
   "id": "3c63f315",
   "metadata": {},
   "outputs": [
    {
     "data": {
      "text/plain": [
       "array(['Jayne Rendel*', 'Suzie Whitehead', 'Elda Stillwell'], dtype=object)"
      ]
     },
     "execution_count": 25,
     "metadata": {},
     "output_type": "execute_result"
    }
   ],
   "source": [
    "pd.Series(ACCOUNTANTS).unique()"
   ]
  }
 ],
 "metadata": {
  "kernelspec": {
   "display_name": "Python 3 (ipykernel)",
   "language": "python",
   "name": "python3"
  },
  "language_info": {
   "codemirror_mode": {
    "name": "ipython",
    "version": 3
   },
   "file_extension": ".py",
   "mimetype": "text/x-python",
   "name": "python",
   "nbconvert_exporter": "python",
   "pygments_lexer": "ipython3",
   "version": "3.9.7"
  }
 },
 "nbformat": 4,
 "nbformat_minor": 5
}
